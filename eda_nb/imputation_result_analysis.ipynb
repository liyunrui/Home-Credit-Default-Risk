{
 "cells": [
  {
   "cell_type": "code",
   "execution_count": 10,
   "metadata": {},
   "outputs": [],
   "source": [
    "import pandas as pd\n",
    "import numpy as np\n",
    "import re\n",
    "import matplotlib.pyplot as plt\n",
    "plt.rcParams['figure.figsize'] = [16, 10] # customizing\n",
    "import os"
   ]
  },
  {
   "cell_type": "code",
   "execution_count": 11,
   "metadata": {},
   "outputs": [
    {
     "data": {
      "text/plain": [
       "['base_featurs_filled_knn_65_wo_target.h5',\n",
       " 'base_featurs_filled_knn_10_w_target.h5',\n",
       " 'base_featurs_filled_knn_95_w_target.h5',\n",
       " 'base_featurs_filled_knn_30_wo_target.h5',\n",
       " 'base_featurs_filled_knn_5_wo_target.h5',\n",
       " 'base_featurs_filled_knn_45_w_target.h5',\n",
       " 'base_featurs_filled_knn_5_w_target.h5',\n",
       " 'base_featurs_filled_knn_75_wo_target.h5',\n",
       " 'base_featurs_filled_knn_40_w_target.h5',\n",
       " 'base_featurs_filled_knn_35_wo_target.h5',\n",
       " 'base_featurs_filled_knn_90_wo_target.h5',\n",
       " 'base_featurs_filled_knn_k_65_by_cluster_0.h5',\n",
       " 'base_featurs_filled_knn_15_wo_target.h5',\n",
       " 'base_featurs_filled_knn_80_w_target.h5',\n",
       " 'base_featurs_filled_knn_40_wo_target.h5',\n",
       " 'base_featurs_filled_knn_65_w_target.h5',\n",
       " 'base_featurs_filled_knn_50_w_target.h5',\n",
       " 'base_featurs_filled_knn_k_65_by_cluster_2.h5',\n",
       " 'base_featurs_filled_knn_70_wo_target.h5',\n",
       " 'base_featurs_filled_knn_25_wo_target.h5',\n",
       " 'base_featurs_filled_knn_90_w_target.h5',\n",
       " 'base_featurs_filled_knn_85_wo_target.h5',\n",
       " 'base_featurs_filled_knn_55_wo_target.h5',\n",
       " 'base_featurs_filled_knn_35_w_target.h5',\n",
       " 'base_featurs_filled_knn_85_w_target.h5',\n",
       " 'base_featurs_filled_knn_80_wo_target.h5',\n",
       " 'base_featurs_filled_knn_95_wo_target.h5',\n",
       " 'base_featurs_filled_knn_30_w_target.h5',\n",
       " 'base_featurs_filled_knn_20_wo_target.h5',\n",
       " 'base_featurs_filled_knn_45_wo_target.h5',\n",
       " 'base_featurs_filled_knn_60_w_target.h5',\n",
       " 'base_featurs_filled_knn_50_wo_target.h5',\n",
       " 'base_featurs_filled_knn_55_w_target.h5',\n",
       " 'base_featurs_filled_knn_20_w_target.h5',\n",
       " 'base_featurs_filled_knn_10_wo_target.h5',\n",
       " 'base_featurs_filled_knn_k_65_by_cluster_1.h5',\n",
       " 'base_featurs_filled_knn_60_wo_target.h5',\n",
       " 'base_featurs_filled_knn_k_65_by_cluster_2+1.h5',\n",
       " 'base_featurs_filled_knn_75_w_target.h5',\n",
       " 'base_featurs_filled_knn_70_w_target.h5',\n",
       " 'base_featurs_filled_knn_25_w_target.h5',\n",
       " 'base_featurs_filled_knn_15_w_target.h5']"
      ]
     },
     "execution_count": 11,
     "metadata": {},
     "output_type": "execute_result"
    }
   ],
   "source": [
    "os.listdir('../features/filled_by_knn/')"
   ]
  },
  {
   "cell_type": "code",
   "execution_count": 4,
   "metadata": {},
   "outputs": [],
   "source": [
    "# pd.DataFrame.plot(): http://jonathansoma.com/lede/algorithms-2017/classes/fuzziness-matplotlib/understand-df-plot-in-pandas/"
   ]
  },
  {
   "cell_type": "code",
   "execution_count": 15,
   "metadata": {},
   "outputs": [
    {
     "data": {
      "text/html": [
       "<div>\n",
       "<style scoped>\n",
       "    .dataframe tbody tr th:only-of-type {\n",
       "        vertical-align: middle;\n",
       "    }\n",
       "\n",
       "    .dataframe tbody tr th {\n",
       "        vertical-align: top;\n",
       "    }\n",
       "\n",
       "    .dataframe thead th {\n",
       "        text-align: right;\n",
       "    }\n",
       "</style>\n",
       "<table border=\"1\" class=\"dataframe\">\n",
       "  <thead>\n",
       "    <tr style=\"text-align: right;\">\n",
       "      <th></th>\n",
       "      <th>inputation_method</th>\n",
       "      <th>Over-iterations val AUC score_before_imputation</th>\n",
       "      <th>Over-iterations val AUC score_after_imputation</th>\n",
       "    </tr>\n",
       "  </thead>\n",
       "  <tbody>\n",
       "    <tr>\n",
       "      <th>17</th>\n",
       "      <td>base_featurs_filled_mice_by_cluster_2+1</td>\n",
       "      <td>0.795883</td>\n",
       "      <td>0.796069</td>\n",
       "    </tr>\n",
       "    <tr>\n",
       "      <th>19</th>\n",
       "      <td>base_featurs_filled_knn_k_65_by_cluster_1</td>\n",
       "      <td>0.795883</td>\n",
       "      <td>0.795929</td>\n",
       "    </tr>\n",
       "    <tr>\n",
       "      <th>18</th>\n",
       "      <td>base_featurs_filled_knn_k_65_by_cluster_2</td>\n",
       "      <td>0.795883</td>\n",
       "      <td>0.795858</td>\n",
       "    </tr>\n",
       "    <tr>\n",
       "      <th>16</th>\n",
       "      <td>base_featurs_filled_mice_by_cluster_1</td>\n",
       "      <td>0.795883</td>\n",
       "      <td>0.795856</td>\n",
       "    </tr>\n",
       "    <tr>\n",
       "      <th>21</th>\n",
       "      <td>base_featurs_filled_knn_k_65_by_cluster_2+1</td>\n",
       "      <td>0.795883</td>\n",
       "      <td>0.795826</td>\n",
       "    </tr>\n",
       "    <tr>\n",
       "      <th>15</th>\n",
       "      <td>base_featurs_filled_mice_by_cluster_2</td>\n",
       "      <td>0.795883</td>\n",
       "      <td>0.795770</td>\n",
       "    </tr>\n",
       "    <tr>\n",
       "      <th>22</th>\n",
       "      <td>base_featurs_filled_by_matrix_cluster_2_1</td>\n",
       "      <td>0.795883</td>\n",
       "      <td>0.794245</td>\n",
       "    </tr>\n",
       "    <tr>\n",
       "      <th>9</th>\n",
       "      <td>base_featurs_filled_knn_65_wo_target</td>\n",
       "      <td>0.795883</td>\n",
       "      <td>0.793986</td>\n",
       "    </tr>\n",
       "    <tr>\n",
       "      <th>13</th>\n",
       "      <td>base_featurs_filled_knn_75_wo_target</td>\n",
       "      <td>0.795883</td>\n",
       "      <td>0.793919</td>\n",
       "    </tr>\n",
       "    <tr>\n",
       "      <th>10</th>\n",
       "      <td>base_featurs_filled_knn_95_w_target</td>\n",
       "      <td>0.795883</td>\n",
       "      <td>0.793916</td>\n",
       "    </tr>\n",
       "    <tr>\n",
       "      <th>20</th>\n",
       "      <td>base_featurs_filled_knn_k_65_by_cluster_0</td>\n",
       "      <td>0.795883</td>\n",
       "      <td>0.793723</td>\n",
       "    </tr>\n",
       "    <tr>\n",
       "      <th>14</th>\n",
       "      <td>base_featurs_filled_knn_40_w_target</td>\n",
       "      <td>0.795883</td>\n",
       "      <td>0.793599</td>\n",
       "    </tr>\n",
       "    <tr>\n",
       "      <th>12</th>\n",
       "      <td>base_featurs_filled_knn_45_w_target</td>\n",
       "      <td>0.795883</td>\n",
       "      <td>0.793547</td>\n",
       "    </tr>\n",
       "    <tr>\n",
       "      <th>8</th>\n",
       "      <td>base_featurs_filled_mice_clustering</td>\n",
       "      <td>0.795883</td>\n",
       "      <td>0.793467</td>\n",
       "    </tr>\n",
       "    <tr>\n",
       "      <th>4</th>\n",
       "      <td>base_featurs_filled_knn_20_wo_target</td>\n",
       "      <td>0.795883</td>\n",
       "      <td>0.793444</td>\n",
       "    </tr>\n",
       "    <tr>\n",
       "      <th>5</th>\n",
       "      <td>base_featurs_filled_knn_20_w_target</td>\n",
       "      <td>0.795883</td>\n",
       "      <td>0.793312</td>\n",
       "    </tr>\n",
       "    <tr>\n",
       "      <th>11</th>\n",
       "      <td>base_featurs_filled_knn_30_wo_target</td>\n",
       "      <td>0.795883</td>\n",
       "      <td>0.793253</td>\n",
       "    </tr>\n",
       "    <tr>\n",
       "      <th>0</th>\n",
       "      <td>base_featurs_filled_knn_10_w_target</td>\n",
       "      <td>0.795883</td>\n",
       "      <td>0.792949</td>\n",
       "    </tr>\n",
       "    <tr>\n",
       "      <th>7</th>\n",
       "      <td>base_featurs_filled_knn_15_w_target</td>\n",
       "      <td>0.795883</td>\n",
       "      <td>0.792939</td>\n",
       "    </tr>\n",
       "    <tr>\n",
       "      <th>3</th>\n",
       "      <td>base_featurs_filled_knn_15_wo_target</td>\n",
       "      <td>0.795883</td>\n",
       "      <td>0.792919</td>\n",
       "    </tr>\n",
       "    <tr>\n",
       "      <th>6</th>\n",
       "      <td>base_featurs_filled_knn_10_wo_target</td>\n",
       "      <td>0.795883</td>\n",
       "      <td>0.792858</td>\n",
       "    </tr>\n",
       "    <tr>\n",
       "      <th>1</th>\n",
       "      <td>base_featurs_filled_knn_5_wo_target</td>\n",
       "      <td>0.795883</td>\n",
       "      <td>0.791771</td>\n",
       "    </tr>\n",
       "    <tr>\n",
       "      <th>2</th>\n",
       "      <td>base_featurs_filled_knn_5_w_target</td>\n",
       "      <td>0.795883</td>\n",
       "      <td>0.791743</td>\n",
       "    </tr>\n",
       "  </tbody>\n",
       "</table>\n",
       "</div>"
      ],
      "text/plain": [
       "                              inputation_method  \\\n",
       "17      base_featurs_filled_mice_by_cluster_2+1   \n",
       "19    base_featurs_filled_knn_k_65_by_cluster_1   \n",
       "18    base_featurs_filled_knn_k_65_by_cluster_2   \n",
       "16        base_featurs_filled_mice_by_cluster_1   \n",
       "21  base_featurs_filled_knn_k_65_by_cluster_2+1   \n",
       "15        base_featurs_filled_mice_by_cluster_2   \n",
       "22    base_featurs_filled_by_matrix_cluster_2_1   \n",
       "9          base_featurs_filled_knn_65_wo_target   \n",
       "13         base_featurs_filled_knn_75_wo_target   \n",
       "10          base_featurs_filled_knn_95_w_target   \n",
       "20    base_featurs_filled_knn_k_65_by_cluster_0   \n",
       "14          base_featurs_filled_knn_40_w_target   \n",
       "12          base_featurs_filled_knn_45_w_target   \n",
       "8           base_featurs_filled_mice_clustering   \n",
       "4          base_featurs_filled_knn_20_wo_target   \n",
       "5           base_featurs_filled_knn_20_w_target   \n",
       "11         base_featurs_filled_knn_30_wo_target   \n",
       "0           base_featurs_filled_knn_10_w_target   \n",
       "7           base_featurs_filled_knn_15_w_target   \n",
       "3          base_featurs_filled_knn_15_wo_target   \n",
       "6          base_featurs_filled_knn_10_wo_target   \n",
       "1           base_featurs_filled_knn_5_wo_target   \n",
       "2            base_featurs_filled_knn_5_w_target   \n",
       "\n",
       "    Over-iterations val AUC score_before_imputation  \\\n",
       "17                                         0.795883   \n",
       "19                                         0.795883   \n",
       "18                                         0.795883   \n",
       "16                                         0.795883   \n",
       "21                                         0.795883   \n",
       "15                                         0.795883   \n",
       "22                                         0.795883   \n",
       "9                                          0.795883   \n",
       "13                                         0.795883   \n",
       "10                                         0.795883   \n",
       "20                                         0.795883   \n",
       "14                                         0.795883   \n",
       "12                                         0.795883   \n",
       "8                                          0.795883   \n",
       "4                                          0.795883   \n",
       "5                                          0.795883   \n",
       "11                                         0.795883   \n",
       "0                                          0.795883   \n",
       "7                                          0.795883   \n",
       "3                                          0.795883   \n",
       "6                                          0.795883   \n",
       "1                                          0.795883   \n",
       "2                                          0.795883   \n",
       "\n",
       "    Over-iterations val AUC score_after_imputation  \n",
       "17                                        0.796069  \n",
       "19                                        0.795929  \n",
       "18                                        0.795858  \n",
       "16                                        0.795856  \n",
       "21                                        0.795826  \n",
       "15                                        0.795770  \n",
       "22                                        0.794245  \n",
       "9                                         0.793986  \n",
       "13                                        0.793919  \n",
       "10                                        0.793916  \n",
       "20                                        0.793723  \n",
       "14                                        0.793599  \n",
       "12                                        0.793547  \n",
       "8                                         0.793467  \n",
       "4                                         0.793444  \n",
       "5                                         0.793312  \n",
       "11                                        0.793253  \n",
       "0                                         0.792949  \n",
       "7                                         0.792939  \n",
       "3                                         0.792919  \n",
       "6                                         0.792858  \n",
       "1                                         0.791771  \n",
       "2                                         0.791743  "
      ]
     },
     "execution_count": 15,
     "metadata": {},
     "output_type": "execute_result"
    }
   ],
   "source": [
    "method = ['base_featurs_filled_knn_10_w_target',\n",
    "                                    'base_featurs_filled_knn_5_wo_target',\n",
    "                                    'base_featurs_filled_knn_5_w_target',\n",
    "                                    'base_featurs_filled_knn_15_wo_target',\n",
    "                                    'base_featurs_filled_knn_20_wo_target',\n",
    "                                    'base_featurs_filled_knn_20_w_target',\n",
    "                                    'base_featurs_filled_knn_10_wo_target',\n",
    "                                    'base_featurs_filled_knn_15_w_target',\n",
    "                                    'base_featurs_filled_mice_clustering',\n",
    "                                    'base_featurs_filled_knn_65_wo_target',\n",
    "                                    'base_featurs_filled_knn_95_w_target',\n",
    "                                    'base_featurs_filled_knn_30_wo_target',\n",
    "                                    'base_featurs_filled_knn_45_w_target',\n",
    "                                    'base_featurs_filled_knn_75_wo_target',\n",
    "                                    'base_featurs_filled_knn_40_w_target',\n",
    "                                    'base_featurs_filled_mice_by_cluster_2',\n",
    "                                    'base_featurs_filled_mice_by_cluster_1',\n",
    "                                    'base_featurs_filled_mice_by_cluster_2+1',\n",
    "                                    'base_featurs_filled_knn_k_65_by_cluster_2',\n",
    "                                    'base_featurs_filled_knn_k_65_by_cluster_1',\n",
    "                                    'base_featurs_filled_knn_k_65_by_cluster_0',\n",
    "                                    'base_featurs_filled_knn_k_65_by_cluster_2+1',\n",
    "                                    'base_featurs_filled_by_matrix_cluster_2_1']\n",
    "result = pd.DataFrame({'inputation_method': method,\n",
    "              'Over-iterations val AUC score_before_imputation':[0.795883003439369 for i in range(len(method))],\n",
    "              'Over-iterations val AUC score_after_imputation':[0.7929492979464368,\n",
    "                                                                0.7917706414389409,\n",
    "                                                                0.7917425417690069,\n",
    "                                                                0.7929189796343843,\n",
    "                                                                0.7934440947821526,\n",
    "                                                                0.7933124590025196,\n",
    "                                                                0.7928583434662771,\n",
    "                                                                0.7929393397993938,\n",
    "                                                                0.7934668162310325,\n",
    "                                                                0.7939862930253605,\n",
    "                                                                0.7939162903386083,\n",
    "                                                                0.7932531052706889,\n",
    "                                                                0.7935473870756299,\n",
    "                                                                0.79391868959853,\n",
    "                                                                0.7935994923549614,\n",
    "                                                                0.7957702270796132,\n",
    "                                                                0.7958559069641756,\n",
    "                                                                0.7960693479739345,\n",
    "                                                                0.795858457757803,\n",
    "                                                                0.7959288901225524,\n",
    "                                                                0.793722729741624,\n",
    "                                                                0.7958257291421369,\n",
    "                                                                0.7942451313046186],\n",
    "             })\n",
    "# compiled_k = re.compile(r'knn_\\d*')\n",
    "# result['w_target'] = [0 if 'wo' in i else 1 for i in result.inputation_method]\n",
    "# result['k'] = [int(compiled_k.findall(i)[0][4:]) for i in result.inputation_method if compiled_k.search(i) ]\n",
    "# result.sort_values(by = 'k', inplace = True)\n",
    "# result.index = [i for i in range(len(result))]\n",
    "# result\n",
    "result.sort_values(by = 'Over-iterations val AUC score_after_imputation', ascending = False)"
   ]
  },
  {
   "cell_type": "code",
   "execution_count": 16,
   "metadata": {},
   "outputs": [
    {
     "data": {
      "text/plain": [
       "<matplotlib.axes._subplots.AxesSubplot at 0x7fde72359240>"
      ]
     },
     "execution_count": 16,
     "metadata": {},
     "output_type": "execute_result"
    },
    {
     "data": {
      "image/png": "[encoded data removed]",
      "text/plain": [
       "<Figure size 1152x720 with 1 Axes>"
      ]
     },
     "metadata": {},
     "output_type": "display_data"
    }
   ],
   "source": [
    "result.plot() # 先找到一組好的subset of features, 再來調整參數"
   ]
  },
  {
   "cell_type": "markdown",
   "metadata": {},
   "source": [
    "# best k"
   ]
  },
  {
   "cell_type": "code",
   "execution_count": 24,
   "metadata": {},
   "outputs": [
    {
     "name": "stderr",
     "output_type": "stream",
     "text": [
      "/home/linuxbrew/.linuxbrew/opt/python/lib/python3.6/site-packages/ipykernel_launcher.py:4: SettingWithCopyWarning: \n",
      "A value is trying to be set on a copy of a slice from a DataFrame.\n",
      "Try using .loc[row_indexer,col_indexer] = value instead\n",
      "\n",
      "See the caveats in the documentation: http://pandas.pydata.org/pandas-docs/stable/indexing.html#indexing-view-versus-copy\n",
      "  after removing the cwd from sys.path.\n",
      "/home/linuxbrew/.linuxbrew/opt/python/lib/python3.6/site-packages/ipykernel_launcher.py:5: SettingWithCopyWarning: \n",
      "A value is trying to be set on a copy of a slice from a DataFrame\n",
      "\n",
      "See the caveats in the documentation: http://pandas.pydata.org/pandas-docs/stable/indexing.html#indexing-view-versus-copy\n",
      "  \"\"\"\n"
     ]
    },
    {
     "data": {
      "text/html": [
       "<div>\n",
       "<style scoped>\n",
       "    .dataframe tbody tr th:only-of-type {\n",
       "        vertical-align: middle;\n",
       "    }\n",
       "\n",
       "    .dataframe tbody tr th {\n",
       "        vertical-align: top;\n",
       "    }\n",
       "\n",
       "    .dataframe thead th {\n",
       "        text-align: right;\n",
       "    }\n",
       "</style>\n",
       "<table border=\"1\" class=\"dataframe\">\n",
       "  <thead>\n",
       "    <tr style=\"text-align: right;\">\n",
       "      <th></th>\n",
       "      <th>inputation_method</th>\n",
       "      <th>Over-iterations val AUC score_before_imputation</th>\n",
       "      <th>Over-iterations val AUC score_after_imputation</th>\n",
       "      <th>w_target</th>\n",
       "      <th>k</th>\n",
       "    </tr>\n",
       "  </thead>\n",
       "  <tbody>\n",
       "    <tr>\n",
       "      <th>0</th>\n",
       "      <td>base_featurs_filled_knn_5_wo_target</td>\n",
       "      <td>0.795883</td>\n",
       "      <td>0.791771</td>\n",
       "      <td>0</td>\n",
       "      <td>5</td>\n",
       "    </tr>\n",
       "    <tr>\n",
       "      <th>1</th>\n",
       "      <td>base_featurs_filled_knn_5_w_target</td>\n",
       "      <td>0.795883</td>\n",
       "      <td>0.791743</td>\n",
       "      <td>1</td>\n",
       "      <td>5</td>\n",
       "    </tr>\n",
       "    <tr>\n",
       "      <th>2</th>\n",
       "      <td>base_featurs_filled_knn_10_w_target</td>\n",
       "      <td>0.795883</td>\n",
       "      <td>0.792949</td>\n",
       "      <td>1</td>\n",
       "      <td>10</td>\n",
       "    </tr>\n",
       "    <tr>\n",
       "      <th>3</th>\n",
       "      <td>base_featurs_filled_knn_10_wo_target</td>\n",
       "      <td>0.795883</td>\n",
       "      <td>0.792858</td>\n",
       "      <td>0</td>\n",
       "      <td>10</td>\n",
       "    </tr>\n",
       "    <tr>\n",
       "      <th>4</th>\n",
       "      <td>base_featurs_filled_knn_15_wo_target</td>\n",
       "      <td>0.795883</td>\n",
       "      <td>0.792919</td>\n",
       "      <td>0</td>\n",
       "      <td>15</td>\n",
       "    </tr>\n",
       "    <tr>\n",
       "      <th>5</th>\n",
       "      <td>base_featurs_filled_knn_15_w_target</td>\n",
       "      <td>0.795883</td>\n",
       "      <td>0.792939</td>\n",
       "      <td>1</td>\n",
       "      <td>15</td>\n",
       "    </tr>\n",
       "    <tr>\n",
       "      <th>6</th>\n",
       "      <td>base_featurs_filled_knn_20_wo_target</td>\n",
       "      <td>0.795883</td>\n",
       "      <td>0.793444</td>\n",
       "      <td>0</td>\n",
       "      <td>20</td>\n",
       "    </tr>\n",
       "    <tr>\n",
       "      <th>7</th>\n",
       "      <td>base_featurs_filled_knn_20_w_target</td>\n",
       "      <td>0.795883</td>\n",
       "      <td>0.793312</td>\n",
       "      <td>1</td>\n",
       "      <td>20</td>\n",
       "    </tr>\n",
       "    <tr>\n",
       "      <th>8</th>\n",
       "      <td>base_featurs_filled_knn_30_wo_target</td>\n",
       "      <td>0.795883</td>\n",
       "      <td>0.793253</td>\n",
       "      <td>0</td>\n",
       "      <td>30</td>\n",
       "    </tr>\n",
       "    <tr>\n",
       "      <th>9</th>\n",
       "      <td>base_featurs_filled_knn_40_w_target</td>\n",
       "      <td>0.795883</td>\n",
       "      <td>0.793599</td>\n",
       "      <td>1</td>\n",
       "      <td>40</td>\n",
       "    </tr>\n",
       "    <tr>\n",
       "      <th>10</th>\n",
       "      <td>base_featurs_filled_knn_45_w_target</td>\n",
       "      <td>0.795883</td>\n",
       "      <td>0.793547</td>\n",
       "      <td>1</td>\n",
       "      <td>45</td>\n",
       "    </tr>\n",
       "    <tr>\n",
       "      <th>11</th>\n",
       "      <td>base_featurs_filled_knn_65_wo_target</td>\n",
       "      <td>0.795883</td>\n",
       "      <td>0.793986</td>\n",
       "      <td>0</td>\n",
       "      <td>65</td>\n",
       "    </tr>\n",
       "    <tr>\n",
       "      <th>12</th>\n",
       "      <td>base_featurs_filled_knn_75_wo_target</td>\n",
       "      <td>0.795883</td>\n",
       "      <td>0.793919</td>\n",
       "      <td>0</td>\n",
       "      <td>75</td>\n",
       "    </tr>\n",
       "    <tr>\n",
       "      <th>13</th>\n",
       "      <td>base_featurs_filled_knn_95_w_target</td>\n",
       "      <td>0.795883</td>\n",
       "      <td>0.793916</td>\n",
       "      <td>1</td>\n",
       "      <td>95</td>\n",
       "    </tr>\n",
       "  </tbody>\n",
       "</table>\n",
       "</div>"
      ],
      "text/plain": [
       "                       inputation_method  \\\n",
       "0    base_featurs_filled_knn_5_wo_target   \n",
       "1     base_featurs_filled_knn_5_w_target   \n",
       "2    base_featurs_filled_knn_10_w_target   \n",
       "3   base_featurs_filled_knn_10_wo_target   \n",
       "4   base_featurs_filled_knn_15_wo_target   \n",
       "5    base_featurs_filled_knn_15_w_target   \n",
       "6   base_featurs_filled_knn_20_wo_target   \n",
       "7    base_featurs_filled_knn_20_w_target   \n",
       "8   base_featurs_filled_knn_30_wo_target   \n",
       "9    base_featurs_filled_knn_40_w_target   \n",
       "10   base_featurs_filled_knn_45_w_target   \n",
       "11  base_featurs_filled_knn_65_wo_target   \n",
       "12  base_featurs_filled_knn_75_wo_target   \n",
       "13   base_featurs_filled_knn_95_w_target   \n",
       "\n",
       "    Over-iterations val AUC score_before_imputation  \\\n",
       "0                                          0.795883   \n",
       "1                                          0.795883   \n",
       "2                                          0.795883   \n",
       "3                                          0.795883   \n",
       "4                                          0.795883   \n",
       "5                                          0.795883   \n",
       "6                                          0.795883   \n",
       "7                                          0.795883   \n",
       "8                                          0.795883   \n",
       "9                                          0.795883   \n",
       "10                                         0.795883   \n",
       "11                                         0.795883   \n",
       "12                                         0.795883   \n",
       "13                                         0.795883   \n",
       "\n",
       "    Over-iterations val AUC score_after_imputation  w_target   k  \n",
       "0                                         0.791771         0   5  \n",
       "1                                         0.791743         1   5  \n",
       "2                                         0.792949         1  10  \n",
       "3                                         0.792858         0  10  \n",
       "4                                         0.792919         0  15  \n",
       "5                                         0.792939         1  15  \n",
       "6                                         0.793444         0  20  \n",
       "7                                         0.793312         1  20  \n",
       "8                                         0.793253         0  30  \n",
       "9                                         0.793599         1  40  \n",
       "10                                        0.793547         1  45  \n",
       "11                                        0.793986         0  65  \n",
       "12                                        0.793919         0  75  \n",
       "13                                        0.793916         1  95  "
      ]
     },
     "execution_count": 24,
     "metadata": {},
     "output_type": "execute_result"
    }
   ],
   "source": [
    "compiled_k = re.compile(r'knn_\\d*')\n",
    "result['w_target'] = [0 if 'wo' in i else 1 for i in result.inputation_method]\n",
    "result = result[result.inputation_method != 'base_featurs_filled_mice_clustering']\n",
    "result['k'] = [int(compiled_k.findall(i)[0][4:]) for i in result.inputation_method if compiled_k.search(i) ]\n",
    "result.sort_values(by = 'k', inplace = True)\n",
    "result.index = [i for i in range(len(result))]\n",
    "result"
   ]
  },
  {
   "cell_type": "markdown",
   "metadata": {},
   "source": [
    "# w_target vs wo_target"
   ]
  },
  {
   "cell_type": "code",
   "execution_count": 25,
   "metadata": {},
   "outputs": [
    {
     "data": {
      "text/plain": [
       "0.7931438297552225"
      ]
     },
     "execution_count": 25,
     "metadata": {},
     "output_type": "execute_result"
    }
   ],
   "source": [
    "result[result.w_target == 1]['Over-iterations val AUC score_after_imputation'].mean()"
   ]
  },
  {
   "cell_type": "code",
   "execution_count": 26,
   "metadata": {},
   "outputs": [
    {
     "data": {
      "text/plain": [
       "0.7931643067451908"
      ]
     },
     "execution_count": 26,
     "metadata": {},
     "output_type": "execute_result"
    }
   ],
   "source": [
    "result[result.w_target == 0]['Over-iterations val AUC score_after_imputation'].mean() # 沒有target好一點"
   ]
  },
  {
   "cell_type": "code",
   "execution_count": 27,
   "metadata": {},
   "outputs": [
    {
     "data": {
      "text/plain": [
       "-2.0476989968321035e-05"
      ]
     },
     "execution_count": 27,
     "metadata": {},
     "output_type": "execute_result"
    }
   ],
   "source": [
    "0.7931438297552225 - 0.7931643067451908 # 但根本沒有好多少, 是因為太多feature了, 影響價值"
   ]
  },
  {
   "cell_type": "code",
   "execution_count": 28,
   "metadata": {},
   "outputs": [
    {
     "data": {
      "image/png": "[encoded data removed]",
      "text/plain": [
       "<Figure size 1152x720 with 1 Axes>"
      ]
     },
     "metadata": {},
     "output_type": "display_data"
    }
   ],
   "source": [
    "result[result.w_target == 1][result.columns.tolist()[:-2]].plot()\n",
    "plt.show() # k越大越好啊"
   ]
  },
  {
   "cell_type": "code",
   "execution_count": 29,
   "metadata": {},
   "outputs": [
    {
     "data": {
      "image/png": "[encoded data removed]",
      "text/plain": [
       "<Figure size 1152x720 with 1 Axes>"
      ]
     },
     "metadata": {},
     "output_type": "display_data"
    }
   ],
   "source": [
    "result[result.w_target == 0][result.columns.tolist()[:-2]].plot()\n",
    "plt.show()"
   ]
  },
  {
   "cell_type": "code",
   "execution_count": 119,
   "metadata": {},
   "outputs": [
    {
     "data": {
      "text/plain": [
       "15"
      ]
     },
     "execution_count": 119,
     "metadata": {},
     "output_type": "execute_result"
    }
   ],
   "source": [
    "len([k for k in np.arange(25, 100, step = 5)])"
   ]
  },
  {
   "cell_type": "code",
   "execution_count": 120,
   "metadata": {},
   "outputs": [
    {
     "data": {
      "text/plain": [
       "7.528553707202276"
      ]
     },
     "execution_count": 120,
     "metadata": {},
     "output_type": "execute_result"
    }
   ],
   "source": [
    "27102.793345928192 /60/60\n"
   ]
  },
  {
   "cell_type": "code",
   "execution_count": null,
   "metadata": {},
   "outputs": [],
   "source": []
  }
 ],
 "metadata": {
  "kernelspec": {
   "display_name": "Python 3",
   "language": "python",
   "name": "python3"
  },
  "language_info": {
   "codemirror_mode": {
    "name": "ipython",
    "version": 3
   },
   "file_extension": ".py",
   "mimetype": "text/x-python",
   "name": "python",
   "nbconvert_exporter": "python",
   "pygments_lexer": "ipython3",
   "version": "3.6.5"
  }
 },
 "nbformat": 4,
 "nbformat_minor": 2
}
