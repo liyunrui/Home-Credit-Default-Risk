{
 "cells": [
  {
   "cell_type": "code",
   "execution_count": 1,
   "metadata": {},
   "outputs": [
    {
     "name": "stderr",
     "output_type": "stream",
     "text": [
      "Using TensorFlow backend.\n"
     ]
    }
   ],
   "source": [
    "from fancyimpute import BiScaler # \n",
    "import pandas as pd\n",
    "import numpy as np\n",
    "import multiprocessing as mp # for speeding up some process\n",
    "import os\n",
    "import gc\n",
    "import time\n"
   ]
  },
  {
   "cell_type": "code",
   "execution_count": null,
   "metadata": {},
   "outputs": [],
   "source": [
    "#---------------------------------------------\n",
    "# Step1: preprocessing for MICE\n",
    "#---------------------------------------------\n",
    "\n",
    "df = pd.read_hdf('../features/base_featurs.h5','base_featurs')\n",
    "no_need_to_inpute = ['SK_ID_CURR','index']\n",
    "df.drop(no_need_to_inpute, axis = 1, inplace = True)\n",
    "# handling with infinity\n",
    "df.replace([np.inf, -np.inf], np.nan, inplace = True)\n",
    "print ('The shapeo of DataFrame needed to complete : ',df.shape)\n"
   ]
  },
  {
   "cell_type": "markdown",
   "metadata": {},
   "source": [
    "# BiScaler: Iterative estimation of row/column means and standard deviations to \n",
    "# get doubly normalized matrix. Not guaranteed to converge but works well in practice."
   ]
  },
  {
   "cell_type": "code",
   "execution_count": null,
   "metadata": {},
   "outputs": [],
   "source": [
    "X_missing = df.sample(n = 500).copy()\n",
    "\n",
    "#-------------------\n",
    "# core algorithm: input should be array\n",
    "#-------------------\n",
    "X_filled = BiScaler().complete(X_missing.values)\n",
    "\n",
    "#-------------------\n",
    "# output\n",
    "#-------------------\n",
    "X_filled = pd.DataFrame(X_filled, columns = X_missing.columns)\n"
   ]
  }
 ],
 "metadata": {
  "kernelspec": {
   "display_name": "Python 3",
   "language": "python",
   "name": "python3"
  },
  "language_info": {
   "codemirror_mode": {
    "name": "ipython",
    "version": 3
   },
   "file_extension": ".py",
   "mimetype": "text/x-python",
   "name": "python",
   "nbconvert_exporter": "python",
   "pygments_lexer": "ipython3",
   "version": "3.6.5"
  }
 },
 "nbformat": 4,
 "nbformat_minor": 2
}
