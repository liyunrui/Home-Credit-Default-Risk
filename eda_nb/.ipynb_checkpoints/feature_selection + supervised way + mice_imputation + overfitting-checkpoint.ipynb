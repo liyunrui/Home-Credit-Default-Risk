{
 "cells": [
  {
   "cell_type": "code",
   "execution_count": 16,
   "metadata": {},
   "outputs": [],
   "source": [
    "import pandas as pd\n",
    "import numpy as np\n",
    "import time\n",
    "import os\n",
    "import multiprocessing as mp # for speeding up some process\n",
    "import sys\n",
    "sys.path.append('../py_model')\n",
    "from utils import init_logging\n",
    "import logging \n",
    "from scipy.cluster import hierarchy\n",
    "import missingno as msno\n",
    "import matplotlib.pyplot as plt\n",
    "import seaborn as sns\n",
    "plt.rcParams['figure.figsize'] = [16, 10] # customizing\n",
    "import gc"
   ]
  },
  {
   "cell_type": "code",
   "execution_count": 2,
   "metadata": {},
   "outputs": [
    {
     "name": "stdout",
     "output_type": "stream",
     "text": [
      "(356251, 281)\n",
      "(356251, 280)\n"
     ]
    }
   ],
   "source": [
    "# loading data\n",
    "df = pd.read_hdf('../features/base_featurs.h5','base_featurs')\n",
    "print (df.shape)\n",
    "copy_for_the_following_merge = df[['SK_ID_CURR','TARGET']].copy()\n",
    "no_need_to_inpute = ['index']\n",
    "df.drop(no_need_to_inpute, axis = 1, inplace = True)\n",
    "# handling with infinity\n",
    "df.replace([np.inf, -np.inf], np.nan, inplace = True)\n",
    "print (df.shape)\n"
   ]
  },
  {
   "cell_type": "markdown",
   "metadata": {},
   "source": [
    "# splitting two datasets by target (from an supervised perspective)\n",
    "# for testing dataset, we use target that our system predicted. "
   ]
  },
  {
   "cell_type": "code",
   "execution_count": 3,
   "metadata": {},
   "outputs": [],
   "source": [
    "# computing the threshold\n",
    "th = df[~df.TARGET.isnull()].TARGET.mean()\n",
    "# loading prediction result\n",
    "test = pd.read_csv('../py_model/sub.csv')\n",
    "test['TARGET'] = test.TARGET.apply( lambda x: 1 if x >= th else 0)\n",
    "# new TARGET field\n",
    "TARGET = df[~df.TARGET.isnull()].TARGET.tolist() + test.TARGET.tolist()\n",
    "# change\n",
    "df['TARGET'] = TARGET"
   ]
  },
  {
   "cell_type": "code",
   "execution_count": 4,
   "metadata": {},
   "outputs": [
    {
     "data": {
      "text/plain": [
       "(317307, 280)"
      ]
     },
     "execution_count": 4,
     "metadata": {},
     "output_type": "execute_result"
    }
   ],
   "source": [
    "df[df.TARGET == 0].shape "
   ]
  },
  {
   "cell_type": "code",
   "execution_count": 5,
   "metadata": {},
   "outputs": [
    {
     "data": {
      "text/plain": [
       "(38944, 280)"
      ]
     },
     "execution_count": 5,
     "metadata": {},
     "output_type": "execute_result"
    }
   ],
   "source": [
    "df[df.TARGET == 1].shape # 只"
   ]
  },
  {
   "cell_type": "code",
   "execution_count": 6,
   "metadata": {},
   "outputs": [
    {
     "data": {
      "text/plain": [
       "True"
      ]
     },
     "execution_count": 6,
     "metadata": {},
     "output_type": "execute_result"
    }
   ],
   "source": [
    "# unit test\n",
    "317307 + 38944 == len(df)"
   ]
  },
  {
   "cell_type": "code",
   "execution_count": 9,
   "metadata": {},
   "outputs": [
    {
     "name": "stderr",
     "output_type": "stream",
     "text": [
      "Using TensorFlow backend.\n",
      "/home/linuxbrew/.linuxbrew/opt/python/lib/python3.6/importlib/_bootstrap.py:219: RuntimeWarning: compiletime version 3.5 of module 'tensorflow.python.framework.fast_tensor_util' does not match runtime version 3.6\n",
      "  return f(*args, **kwds)\n",
      "visit_sequence: monotone\n",
      "visit_sequence: monotone\n",
      "visit_sequence: monotone\n",
      "impute_type: col\n",
      "impute_type: col\n",
      "impute_type: col\n",
      "init_fill_method: mean\n",
      "init_fill_method: mean\n",
      "init_fill_method: mean\n",
      "target == 1\n",
      "target == 1\n",
      "target == 1\n"
     ]
    },
    {
     "name": "stdout",
     "output_type": "stream",
     "text": [
      "[MICE] Completing matrix with shape (38944, 280)\n",
      "[MICE] Starting imputation round 1/110, elapsed time 0.153\n",
      "[MICE] Starting imputation round 2/110, elapsed time 45.787\n",
      "[MICE] Starting imputation round 3/110, elapsed time 90.509\n",
      "[MICE] Starting imputation round 4/110, elapsed time 135.606\n",
      "[MICE] Starting imputation round 5/110, elapsed time 180.321\n",
      "[MICE] Starting imputation round 6/110, elapsed time 224.684\n",
      "[MICE] Starting imputation round 7/110, elapsed time 269.024\n",
      "[MICE] Starting imputation round 8/110, elapsed time 314.057\n",
      "[MICE] Starting imputation round 9/110, elapsed time 358.762\n",
      "[MICE] Starting imputation round 10/110, elapsed time 403.060\n",
      "[MICE] Starting imputation round 11/110, elapsed time 447.889\n",
      "[MICE] Starting imputation round 12/110, elapsed time 500.925\n",
      "[MICE] Starting imputation round 13/110, elapsed time 545.334\n",
      "[MICE] Starting imputation round 14/110, elapsed time 589.741\n",
      "[MICE] Starting imputation round 15/110, elapsed time 639.390\n",
      "[MICE] Starting imputation round 16/110, elapsed time 685.593\n",
      "[MICE] Starting imputation round 17/110, elapsed time 730.823\n",
      "[MICE] Starting imputation round 18/110, elapsed time 775.475\n",
      "[MICE] Starting imputation round 19/110, elapsed time 820.747\n",
      "[MICE] Starting imputation round 20/110, elapsed time 868.404\n",
      "[MICE] Starting imputation round 21/110, elapsed time 915.346\n",
      "[MICE] Starting imputation round 22/110, elapsed time 960.567\n",
      "[MICE] Starting imputation round 23/110, elapsed time 1006.078\n",
      "[MICE] Starting imputation round 24/110, elapsed time 1059.180\n",
      "[MICE] Starting imputation round 25/110, elapsed time 1116.387\n",
      "[MICE] Starting imputation round 26/110, elapsed time 1162.084\n",
      "[MICE] Starting imputation round 27/110, elapsed time 1207.193\n",
      "[MICE] Starting imputation round 28/110, elapsed time 1251.705\n",
      "[MICE] Starting imputation round 29/110, elapsed time 1299.948\n",
      "[MICE] Starting imputation round 30/110, elapsed time 1344.202\n",
      "[MICE] Starting imputation round 31/110, elapsed time 1389.343\n",
      "[MICE] Starting imputation round 32/110, elapsed time 1439.859\n",
      "[MICE] Starting imputation round 33/110, elapsed time 1485.307\n",
      "[MICE] Starting imputation round 34/110, elapsed time 1530.784\n",
      "[MICE] Starting imputation round 35/110, elapsed time 1575.284\n",
      "[MICE] Starting imputation round 36/110, elapsed time 1622.521\n",
      "[MICE] Starting imputation round 37/110, elapsed time 1679.268\n",
      "[MICE] Starting imputation round 38/110, elapsed time 1723.905\n",
      "[MICE] Starting imputation round 39/110, elapsed time 1789.506\n",
      "[MICE] Starting imputation round 40/110, elapsed time 1835.418\n",
      "[MICE] Starting imputation round 41/110, elapsed time 1884.220\n",
      "[MICE] Starting imputation round 42/110, elapsed time 1929.089\n",
      "[MICE] Starting imputation round 43/110, elapsed time 1977.162\n",
      "[MICE] Starting imputation round 44/110, elapsed time 2024.317\n",
      "[MICE] Starting imputation round 45/110, elapsed time 2071.118\n",
      "[MICE] Starting imputation round 46/110, elapsed time 2118.306\n",
      "[MICE] Starting imputation round 47/110, elapsed time 2169.117\n",
      "[MICE] Starting imputation round 48/110, elapsed time 2214.308\n",
      "[MICE] Starting imputation round 49/110, elapsed time 2259.691\n",
      "[MICE] Starting imputation round 50/110, elapsed time 2306.883\n",
      "[MICE] Starting imputation round 51/110, elapsed time 2353.698\n",
      "[MICE] Starting imputation round 52/110, elapsed time 2400.190\n",
      "[MICE] Starting imputation round 53/110, elapsed time 2447.311\n",
      "[MICE] Starting imputation round 54/110, elapsed time 2494.382\n",
      "[MICE] Starting imputation round 55/110, elapsed time 2540.370\n",
      "[MICE] Starting imputation round 56/110, elapsed time 2587.131\n",
      "[MICE] Starting imputation round 57/110, elapsed time 2633.249\n",
      "[MICE] Starting imputation round 58/110, elapsed time 2678.376\n",
      "[MICE] Starting imputation round 59/110, elapsed time 2727.371\n",
      "[MICE] Starting imputation round 60/110, elapsed time 2772.637\n",
      "[MICE] Starting imputation round 61/110, elapsed time 2818.930\n",
      "[MICE] Starting imputation round 62/110, elapsed time 2864.189\n",
      "[MICE] Starting imputation round 63/110, elapsed time 2911.427\n",
      "[MICE] Starting imputation round 64/110, elapsed time 2956.214\n",
      "[MICE] Starting imputation round 65/110, elapsed time 3001.506\n",
      "[MICE] Starting imputation round 66/110, elapsed time 3047.236\n",
      "[MICE] Starting imputation round 67/110, elapsed time 3095.611\n",
      "[MICE] Starting imputation round 68/110, elapsed time 3141.954\n",
      "[MICE] Starting imputation round 69/110, elapsed time 3187.140\n",
      "[MICE] Starting imputation round 70/110, elapsed time 3231.793\n",
      "[MICE] Starting imputation round 71/110, elapsed time 3276.851\n",
      "[MICE] Starting imputation round 72/110, elapsed time 3322.753\n",
      "[MICE] Starting imputation round 73/110, elapsed time 3372.231\n",
      "[MICE] Starting imputation round 74/110, elapsed time 3420.886\n",
      "[MICE] Starting imputation round 75/110, elapsed time 3470.251\n",
      "[MICE] Starting imputation round 76/110, elapsed time 3514.955\n",
      "[MICE] Starting imputation round 77/110, elapsed time 3559.248\n",
      "[MICE] Starting imputation round 78/110, elapsed time 3604.137\n",
      "[MICE] Starting imputation round 79/110, elapsed time 3651.684\n",
      "[MICE] Starting imputation round 80/110, elapsed time 3697.748\n",
      "[MICE] Starting imputation round 81/110, elapsed time 3743.955\n",
      "[MICE] Starting imputation round 82/110, elapsed time 3789.022\n",
      "[MICE] Starting imputation round 83/110, elapsed time 3838.272\n",
      "[MICE] Starting imputation round 84/110, elapsed time 3883.166\n",
      "[MICE] Starting imputation round 85/110, elapsed time 3934.247\n",
      "[MICE] Starting imputation round 86/110, elapsed time 3985.414\n",
      "[MICE] Starting imputation round 87/110, elapsed time 4045.113\n",
      "[MICE] Starting imputation round 88/110, elapsed time 4093.135\n",
      "[MICE] Starting imputation round 89/110, elapsed time 4138.195\n",
      "[MICE] Starting imputation round 90/110, elapsed time 4183.198\n",
      "[MICE] Starting imputation round 91/110, elapsed time 4227.881\n",
      "[MICE] Starting imputation round 92/110, elapsed time 4272.843\n",
      "[MICE] Starting imputation round 93/110, elapsed time 4318.090\n",
      "[MICE] Starting imputation round 94/110, elapsed time 4363.183\n",
      "[MICE] Starting imputation round 95/110, elapsed time 4407.690\n",
      "[MICE] Starting imputation round 96/110, elapsed time 4452.442\n",
      "[MICE] Starting imputation round 97/110, elapsed time 4498.995\n",
      "[MICE] Starting imputation round 98/110, elapsed time 4545.554\n",
      "[MICE] Starting imputation round 99/110, elapsed time 4593.754\n",
      "[MICE] Starting imputation round 100/110, elapsed time 4643.131\n",
      "[MICE] Starting imputation round 101/110, elapsed time 4690.359\n",
      "[MICE] Starting imputation round 102/110, elapsed time 4735.234\n",
      "[MICE] Starting imputation round 103/110, elapsed time 4779.783\n",
      "[MICE] Starting imputation round 104/110, elapsed time 4824.847\n",
      "[MICE] Starting imputation round 105/110, elapsed time 4871.139\n",
      "[MICE] Starting imputation round 106/110, elapsed time 4919.399\n",
      "[MICE] Starting imputation round 107/110, elapsed time 4966.268\n",
      "[MICE] Starting imputation round 108/110, elapsed time 5022.343\n",
      "[MICE] Starting imputation round 109/110, elapsed time 5074.938\n",
      "[MICE] Starting imputation round 110/110, elapsed time 5125.671\n"
     ]
    }
   ],
   "source": [
    "#---------\n",
    "# setting\n",
    "#---------\n",
    "log_dir = '../log_mice_inputation'\n",
    "init_logging(log_dir)\n",
    "X_missing = df[df.TARGET == 1]\n",
    "#-------------------\n",
    "# core algorithm: input should be array\n",
    "#-------------------\n",
    "from fancyimpute import MICE # for imputing\n",
    "\n",
    "logging.info('visit_sequence: {}'.format('monotone')) \n",
    "logging.info('impute_type: {}'.format('col')) \n",
    "logging.info('init_fill_method: {}'.format('mean')) \n",
    "logging.info('target == 1')\n",
    "X_filled = MICE(visit_sequence = 'monotone', \n",
    "                impute_type = 'col',\n",
    "                 init_fill_method = 'mean').complete(X_missing.values)\n",
    "    "
   ]
  },
  {
   "cell_type": "markdown",
   "metadata": {},
   "source": [
    "# use the half of training data to impute(預期會是不好的)"
   ]
  },
  {
   "cell_type": "code",
   "execution_count": 40,
   "metadata": {},
   "outputs": [
    {
     "name": "stdout",
     "output_type": "stream",
     "text": [
      "(38944, 280)\n"
     ]
    }
   ],
   "source": [
    "X_filled_copy = pd.DataFrame(X_filled, columns = X_missing.columns)\n",
    "print (X_filled_copy.shape)"
   ]
  },
  {
   "cell_type": "code",
   "execution_count": 41,
   "metadata": {},
   "outputs": [
    {
     "name": "stderr",
     "output_type": "stream",
     "text": [
      "there will be no bugging in merge\n",
      "there will be no bugging in merge\n",
      "there will be no bugging in merge\n"
     ]
    }
   ],
   "source": [
    "# drop fake TARGET\n",
    "X_filled_copy.drop(['TARGET'], axis = 1, inplace = True)\n",
    "gc.collect()\n",
    "# unit test\n",
    "X_filled_copy.SK_ID_CURR = X_filled_copy.SK_ID_CURR.astype(int)\n",
    "logging.info('there will be no bugging in merge' if X_filled_copy.SK_ID_CURR.nunique() == df[df.TARGET == 1].SK_ID_CURR.nunique() else \"opps\")\n"
   ]
  },
  {
   "cell_type": "code",
   "execution_count": 42,
   "metadata": {},
   "outputs": [
    {
     "data": {
      "text/plain": [
       "(38944, 2)"
      ]
     },
     "execution_count": 42,
     "metadata": {},
     "output_type": "execute_result"
    }
   ],
   "source": [
    "s = pd.merge(copy_for_the_following_merge, test,on = 'SK_ID_CURR', how = 'left')\n",
    "s.TARGET_x.replace(np.nan, -1, inplace = True)\n",
    "s.TARGET_y.replace(np.nan, -1, inplace = True)\n",
    "s['TARGET'] = [i if i != -1 else j for i, j in zip(s.TARGET_x, s.TARGET_y) ]\n",
    "s.drop(['TARGET_x','TARGET_y'], axis = 1, inplace = True)\n",
    "s[s.TARGET == 1].shape"
   ]
  },
  {
   "cell_type": "code",
   "execution_count": 43,
   "metadata": {},
   "outputs": [
    {
     "name": "stderr",
     "output_type": "stream",
     "text": [
      "final_shape : (38944, 280)\n",
      "final_shape : (38944, 280)\n",
      "final_shape : (38944, 280)\n"
     ]
    }
   ],
   "source": [
    "X_filled_copy = pd.merge(X_filled_copy, copy_for_the_following_merge, on = 'SK_ID_CURR', how = 'left')\n",
    "logging.info('final_shape : {}'.format(X_filled_copy.shape))"
   ]
  },
  {
   "cell_type": "code",
   "execution_count": 47,
   "metadata": {},
   "outputs": [
    {
     "data": {
      "text/plain": [
       "True"
      ]
     },
     "execution_count": 47,
     "metadata": {},
     "output_type": "execute_result"
    }
   ],
   "source": [
    "df[df.TARGET == 0].shape[0] + X_filled_copy.shape[0] == df.shape[0]"
   ]
  },
  {
   "cell_type": "code",
   "execution_count": 48,
   "metadata": {},
   "outputs": [
    {
     "name": "stderr",
     "output_type": "stream",
     "text": [
      "/home/linuxbrew/.linuxbrew/opt/python/lib/python3.6/site-packages/ipykernel_launcher.py:1: FutureWarning: Sorting because non-concatenation axis is not aligned. A future version\n",
      "of pandas will change to not sort by default.\n",
      "\n",
      "To accept the future behavior, pass 'sort=False'.\n",
      "\n",
      "To retain the current behavior and silence the warning, pass 'sort=True'.\n",
      "\n",
      "  \"\"\"Entry point for launching an IPython kernel.\n",
      "final_shape : (356251, 280)\n",
      "final_shape : (356251, 280)\n",
      "final_shape : (356251, 280)\n"
     ]
    }
   ],
   "source": [
    "X_filled_copy = pd.concat([X_filled_copy, df[df.TARGET == 0]], axis = 0)\n",
    "logging.info('final_shape : {}'.format(X_filled_copy.shape))"
   ]
  },
  {
   "cell_type": "code",
   "execution_count": 50,
   "metadata": {},
   "outputs": [],
   "source": [
    "output_path = '../features/filled_by_mice'\n",
    "X_filled_copy.to_hdf(\n",
    "    os.path.join(output_path, 'base_featurs_filled_mice_half_training_data.h5'), 'base_featurs_filled_mice_half_training_data')\n"
   ]
  },
  {
   "cell_type": "code",
   "execution_count": null,
   "metadata": {},
   "outputs": [],
   "source": []
  },
  {
   "cell_type": "code",
   "execution_count": null,
   "metadata": {},
   "outputs": [
    {
     "name": "stdout",
     "output_type": "stream",
     "text": [
      "[MICE] Completing matrix with shape (317307, 280)\n",
      "[MICE] Starting imputation round 1/110, elapsed time 1.225\n",
      "[MICE] Starting imputation round 2/110, elapsed time 378.997\n",
      "[MICE] Starting imputation round 3/110, elapsed time 761.010\n",
      "[MICE] Starting imputation round 4/110, elapsed time 1136.862\n",
      "[MICE] Starting imputation round 5/110, elapsed time 1547.817\n",
      "[MICE] Starting imputation round 6/110, elapsed time 1986.722\n",
      "[MICE] Starting imputation round 7/110, elapsed time 2391.579\n",
      "[MICE] Starting imputation round 8/110, elapsed time 2826.118\n",
      "[MICE] Starting imputation round 9/110, elapsed time 3265.990\n",
      "[MICE] Starting imputation round 10/110, elapsed time 3704.001\n",
      "[MICE] Starting imputation round 11/110, elapsed time 4138.055\n",
      "[MICE] Starting imputation round 12/110, elapsed time 4578.153\n",
      "[MICE] Starting imputation round 13/110, elapsed time 5013.449\n",
      "[MICE] Starting imputation round 14/110, elapsed time 5449.687\n",
      "[MICE] Starting imputation round 15/110, elapsed time 5887.708\n",
      "[MICE] Starting imputation round 16/110, elapsed time 6325.399\n",
      "[MICE] Starting imputation round 17/110, elapsed time 6768.964\n",
      "[MICE] Starting imputation round 18/110, elapsed time 7208.355\n",
      "[MICE] Starting imputation round 19/110, elapsed time 7648.528\n",
      "[MICE] Starting imputation round 20/110, elapsed time 8088.082\n",
      "[MICE] Starting imputation round 21/110, elapsed time 8528.832\n",
      "[MICE] Starting imputation round 22/110, elapsed time 8963.065\n",
      "[MICE] Starting imputation round 23/110, elapsed time 9412.149\n",
      "[MICE] Starting imputation round 24/110, elapsed time 9852.639\n",
      "[MICE] Starting imputation round 25/110, elapsed time 10291.304\n",
      "[MICE] Starting imputation round 26/110, elapsed time 10729.890\n",
      "[MICE] Starting imputation round 27/110, elapsed time 11171.240\n",
      "[MICE] Starting imputation round 28/110, elapsed time 11607.154\n",
      "[MICE] Starting imputation round 29/110, elapsed time 12041.253\n",
      "[MICE] Starting imputation round 30/110, elapsed time 12474.474\n",
      "[MICE] Starting imputation round 31/110, elapsed time 12910.674\n"
     ]
    }
   ],
   "source": [
    "#---------\n",
    "# setting\n",
    "#---------\n",
    "log_dir = '../log_mice_inputation'\n",
    "init_logging(log_dir)\n",
    "\n",
    "from fancyimpute import MICE # for imputing\n",
    "output_filled_ls = []\n",
    "# unit test if MICE algorithm will change the order of DataFrame\n",
    "for i in range(2):\n",
    "    if i == 0:\n",
    "        X_missing = df[df.TARGET == 0]\n",
    "        #-------------------\n",
    "        # core algorithm: input should be array\n",
    "        #-------------------\n",
    "        logging.info('visit_sequence: {}'.format('monotone')) \n",
    "        logging.info('impute_type: {}'.format('col')) \n",
    "        logging.info('init_fill_method: {}'.format('mean')) \n",
    "        logging.info('target == 0')\n",
    "        X_filled = MICE(visit_sequence = 'monotone', \n",
    "                        impute_type = 'col',\n",
    "                         init_fill_method = 'mean').complete(X_missing.values)\n",
    "    elif i == 1:\n",
    "        X_missing = df[df.TARGET == 1]\n",
    "        #-------------------\n",
    "        # core algorithm: input should be array\n",
    "        #-------------------\n",
    "        logging.info('visit_sequence: {}'.format('monotone')) \n",
    "        logging.info('impute_type: {}'.format('col')) \n",
    "        logging.info('init_fill_method: {}'.format('mean')) \n",
    "        logging.info('target == 1')\n",
    "        X_filled = MICE(visit_sequence = 'monotone', \n",
    "                        impute_type = 'col',\n",
    "                         init_fill_method = 'mean').complete(X_missing.values)\n",
    "    else:\n",
    "        pass\n",
    "       \n",
    "    \n",
    "    output_filled_ls.append(pd.DataFrame(X_filled, columns = X_missing.columns))\n"
   ]
  },
  {
   "cell_type": "markdown",
   "metadata": {},
   "source": [
    "# 實驗只捕一半的, 這樣也不是我們是要subset of features(no wonder he transpose1!!)"
   ]
  },
  {
   "cell_type": "code",
   "execution_count": null,
   "metadata": {},
   "outputs": [],
   "source": []
  },
  {
   "cell_type": "code",
   "execution_count": null,
   "metadata": {},
   "outputs": [],
   "source": [
    "#---------\n",
    "# output\n",
    "#---------\n",
    "import gc\n",
    "# merge\n",
    "X_filled = pd.concat(output_filled_ls, axis = 1)\n",
    "# drop fake TARGET\n",
    "X_filled.drop(['TARGET'], axis = 1, inplace = True)\n",
    "gc.collect()\n",
    "# unit test\n",
    "X_filled.SK_ID_CURR = X_filled.SK_ID_CURR.astype(int)\n",
    "logging.info('there will be no bugging in merge' if X_filled.SK_ID_CURR.nunique() == df.SK_ID_CURR.nunique() else \"opps\")\n",
    "# merge original TARGET back\n",
    "X_filled = pd.merge(X_filled, copy_for_the_following_merge, on = 'SK_ID_CURR', how = 'left')\n",
    "logging.info('final_shape : {}'.format(X_filled.shape))\n"
   ]
  },
  {
   "cell_type": "code",
   "execution_count": null,
   "metadata": {},
   "outputs": [],
   "source": [
    "\n",
    "#-------------------\n",
    "# save\n",
    "#-------------------\n",
    "output_path = '../features/filled_by_mice'\n",
    "if not os.path.isdir(output_path):\n",
    "    os.mkdir(output_path)\n",
    "\n",
    "X_filled.to_hdf(\n",
    "    os.path.join(output_path, 'base_featurs_filled_mice_supervised.h5'), 'base_featurs_filled_mice_supervised')\n"
   ]
  },
  {
   "cell_type": "markdown",
   "metadata": {},
   "source": [
    "# hierachical clustering (from an unsupervised perspective)\n",
    "### the best tutorial to explain what this is : https://stackabuse.com/hierarchical-clustering-with-python-and-scikit-learn/"
   ]
  },
  {
   "cell_type": "code",
   "execution_count": null,
   "metadata": {},
   "outputs": [],
   "source": [
    "print (df.shape)\n",
    "msno.bar(df.sample(500))"
   ]
  },
  {
   "cell_type": "code",
   "execution_count": null,
   "metadata": {},
   "outputs": [],
   "source": [
    "from sklearn.cluster import AgglomerativeClustering\n",
    "\n",
    "cluster = AgglomerativeClustering(n_clusters=2, affinity='euclidean', linkage='ward')  \n",
    "cluster.fit_predict(df.values)  "
   ]
  },
  {
   "cell_type": "code",
   "execution_count": null,
   "metadata": {},
   "outputs": [],
   "source": [
    "print(cluster.labels_)  \n"
   ]
  },
  {
   "cell_type": "code",
   "execution_count": null,
   "metadata": {},
   "outputs": [],
   "source": []
  },
  {
   "cell_type": "code",
   "execution_count": null,
   "metadata": {},
   "outputs": [],
   "source": []
  },
  {
   "cell_type": "code",
   "execution_count": null,
   "metadata": {},
   "outputs": [],
   "source": []
  },
  {
   "cell_type": "code",
   "execution_count": null,
   "metadata": {},
   "outputs": [],
   "source": []
  },
  {
   "cell_type": "code",
   "execution_count": null,
   "metadata": {},
   "outputs": [],
   "source": []
  },
  {
   "cell_type": "code",
   "execution_count": null,
   "metadata": {},
   "outputs": [],
   "source": [
    "def nullity_sort(df, sort=None):\n",
    "    \"\"\"\n",
    "    Sorts a DataFrame according to its nullity, in either ascending or descending order.\n",
    "    :param df: The DataFrame object being sorted.\n",
    "    :param sort: The sorting method: either \"ascending\", \"descending\", or None (default).\n",
    "    :return: The nullity-sorted DataFrame.\n",
    "    \"\"\"\n",
    "    if sort == 'ascending':\n",
    "        return df.iloc[np.argsort(df.count(axis='columns').values), :]\n",
    "    elif sort == 'descending':\n",
    "        return df.iloc[np.flipud(np.argsort(df.count(axis='columns').values)), :]\n",
    "    else:\n",
    "        return df\n",
    "\n",
    "\n",
    "def nullity_filter(df, filter=None, p=0, n=0):\n",
    "    \"\"\"\n",
    "    Filters a DataFrame according to its nullity, using some combination of 'top' and 'bottom' numerical and\n",
    "    percentage values. Percentages and numerical thresholds can be specified simultaneously: for example,\n",
    "    to get a DataFrame with columns of at least 75% completeness but with no more than 5 columns, use\n",
    "    `nullity_filter(df, filter='top', p=.75, n=5)`.\n",
    "    :param df: The DataFrame whose columns are being filtered.\n",
    "    :param filter: The orientation of the filter being applied to the DataFrame. One of, \"top\", \"bottom\",\n",
    "    or None (default). The filter will simply return the DataFrame if you leave the filter argument unspecified or\n",
    "    as None.\n",
    "    :param p: A completeness ratio cut-off. If non-zero the filter will limit the DataFrame to columns with at least p\n",
    "    completeness. Input should be in the range [0, 1].\n",
    "    :param n: A numerical cut-off. If non-zero no more than this number of columns will be returned.\n",
    "    :return: The nullity-filtered `DataFrame`.\n",
    "    \"\"\"\n",
    "    if filter == 'top':\n",
    "        if p:\n",
    "            df = df.iloc[:, [c >= p for c in df.count(axis='rows').values / len(df)]]\n",
    "        if n:\n",
    "            df = df.iloc[:, np.sort(np.argsort(df.count(axis='rows').values)[-n:])]\n",
    "    elif filter == 'bottom':\n",
    "        if p:\n",
    "            df = df.iloc[:, [c <= p for c in df.count(axis='rows').values / len(df)]]\n",
    "        if n:\n",
    "            df = df.iloc[:, np.sort(np.argsort(df.count(axis='rows').values)[:n])]\n",
    "    return df\n",
    "#--------------------\n",
    "# setting\n",
    "#--------------------\n",
    "n = 0 # by default\n",
    "p = 0 # by default \n",
    "sort = None # by default \n",
    "method ='average' # by default\n",
    "\n",
    "#--------------------\n",
    "# compute nullity\n",
    "#--------------------\n",
    "df = nullity_filter(df, filter=filter, n=n, p=p)\n",
    "df = nullity_sort(df, sort=sort)\n"
   ]
  },
  {
   "cell_type": "code",
   "execution_count": null,
   "metadata": {},
   "outputs": [],
   "source": [
    "print (df.shape)\n",
    "msno.bar(df.sample(500)) "
   ]
  },
  {
   "cell_type": "code",
   "execution_count": 3,
   "metadata": {},
   "outputs": [],
   "source": [
    "#--------------------\n",
    "# Link the hierarchical output matrix, figure out orientation, construct base dendrogram.\n",
    "#--------------------\n",
    "x = df.isnull().astype(int).values"
   ]
  },
  {
   "cell_type": "code",
   "execution_count": 7,
   "metadata": {},
   "outputs": [
    {
     "data": {
      "text/html": [
       "<div>\n",
       "<style scoped>\n",
       "    .dataframe tbody tr th:only-of-type {\n",
       "        vertical-align: middle;\n",
       "    }\n",
       "\n",
       "    .dataframe tbody tr th {\n",
       "        vertical-align: top;\n",
       "    }\n",
       "\n",
       "    .dataframe thead th {\n",
       "        text-align: right;\n",
       "    }\n",
       "</style>\n",
       "<table border=\"1\" class=\"dataframe\">\n",
       "  <thead>\n",
       "    <tr style=\"text-align: right;\">\n",
       "      <th></th>\n",
       "      <th>AMT_ANNUITY</th>\n",
       "      <th>AMT_CREDIT</th>\n",
       "      <th>AMT_GOODS_PRICE</th>\n",
       "      <th>AMT_REQ_CREDIT_BUREAU_QRT</th>\n",
       "      <th>APARTMENTS_MEDI</th>\n",
       "    </tr>\n",
       "  </thead>\n",
       "  <tbody>\n",
       "    <tr>\n",
       "      <th>0</th>\n",
       "      <td>False</td>\n",
       "      <td>False</td>\n",
       "      <td>False</td>\n",
       "      <td>False</td>\n",
       "      <td>False</td>\n",
       "    </tr>\n",
       "    <tr>\n",
       "      <th>1</th>\n",
       "      <td>False</td>\n",
       "      <td>False</td>\n",
       "      <td>False</td>\n",
       "      <td>False</td>\n",
       "      <td>False</td>\n",
       "    </tr>\n",
       "    <tr>\n",
       "      <th>2</th>\n",
       "      <td>False</td>\n",
       "      <td>False</td>\n",
       "      <td>False</td>\n",
       "      <td>False</td>\n",
       "      <td>True</td>\n",
       "    </tr>\n",
       "    <tr>\n",
       "      <th>3</th>\n",
       "      <td>False</td>\n",
       "      <td>False</td>\n",
       "      <td>False</td>\n",
       "      <td>True</td>\n",
       "      <td>True</td>\n",
       "    </tr>\n",
       "    <tr>\n",
       "      <th>4</th>\n",
       "      <td>False</td>\n",
       "      <td>False</td>\n",
       "      <td>False</td>\n",
       "      <td>False</td>\n",
       "      <td>True</td>\n",
       "    </tr>\n",
       "  </tbody>\n",
       "</table>\n",
       "</div>"
      ],
      "text/plain": [
       "   AMT_ANNUITY  AMT_CREDIT  AMT_GOODS_PRICE  AMT_REQ_CREDIT_BUREAU_QRT  \\\n",
       "0        False       False            False                      False   \n",
       "1        False       False            False                      False   \n",
       "2        False       False            False                      False   \n",
       "3        False       False            False                       True   \n",
       "4        False       False            False                      False   \n",
       "\n",
       "   APARTMENTS_MEDI  \n",
       "0            False  \n",
       "1            False  \n",
       "2             True  \n",
       "3             True  \n",
       "4             True  "
      ]
     },
     "execution_count": 7,
     "metadata": {},
     "output_type": "execute_result"
    }
   ],
   "source": [
    "df.iloc[:5,:5].isnull()"
   ]
  },
  {
   "cell_type": "code",
   "execution_count": 8,
   "metadata": {},
   "outputs": [
    {
     "data": {
      "text/html": [
       "<div>\n",
       "<style scoped>\n",
       "    .dataframe tbody tr th:only-of-type {\n",
       "        vertical-align: middle;\n",
       "    }\n",
       "\n",
       "    .dataframe tbody tr th {\n",
       "        vertical-align: top;\n",
       "    }\n",
       "\n",
       "    .dataframe thead th {\n",
       "        text-align: right;\n",
       "    }\n",
       "</style>\n",
       "<table border=\"1\" class=\"dataframe\">\n",
       "  <thead>\n",
       "    <tr style=\"text-align: right;\">\n",
       "      <th></th>\n",
       "      <th>AMT_ANNUITY</th>\n",
       "      <th>AMT_CREDIT</th>\n",
       "      <th>AMT_GOODS_PRICE</th>\n",
       "      <th>AMT_REQ_CREDIT_BUREAU_QRT</th>\n",
       "      <th>APARTMENTS_MEDI</th>\n",
       "    </tr>\n",
       "  </thead>\n",
       "  <tbody>\n",
       "    <tr>\n",
       "      <th>0</th>\n",
       "      <td>0</td>\n",
       "      <td>0</td>\n",
       "      <td>0</td>\n",
       "      <td>0</td>\n",
       "      <td>0</td>\n",
       "    </tr>\n",
       "    <tr>\n",
       "      <th>1</th>\n",
       "      <td>0</td>\n",
       "      <td>0</td>\n",
       "      <td>0</td>\n",
       "      <td>0</td>\n",
       "      <td>0</td>\n",
       "    </tr>\n",
       "    <tr>\n",
       "      <th>2</th>\n",
       "      <td>0</td>\n",
       "      <td>0</td>\n",
       "      <td>0</td>\n",
       "      <td>0</td>\n",
       "      <td>1</td>\n",
       "    </tr>\n",
       "    <tr>\n",
       "      <th>3</th>\n",
       "      <td>0</td>\n",
       "      <td>0</td>\n",
       "      <td>0</td>\n",
       "      <td>1</td>\n",
       "      <td>1</td>\n",
       "    </tr>\n",
       "    <tr>\n",
       "      <th>4</th>\n",
       "      <td>0</td>\n",
       "      <td>0</td>\n",
       "      <td>0</td>\n",
       "      <td>0</td>\n",
       "      <td>1</td>\n",
       "    </tr>\n",
       "  </tbody>\n",
       "</table>\n",
       "</div>"
      ],
      "text/plain": [
       "   AMT_ANNUITY  AMT_CREDIT  AMT_GOODS_PRICE  AMT_REQ_CREDIT_BUREAU_QRT  \\\n",
       "0            0           0                0                          0   \n",
       "1            0           0                0                          0   \n",
       "2            0           0                0                          0   \n",
       "3            0           0                0                          1   \n",
       "4            0           0                0                          0   \n",
       "\n",
       "   APARTMENTS_MEDI  \n",
       "0                0  \n",
       "1                0  \n",
       "2                1  \n",
       "3                1  \n",
       "4                1  "
      ]
     },
     "execution_count": 8,
     "metadata": {},
     "output_type": "execute_result"
    }
   ],
   "source": [
    "df.iloc[:5,:5].isnull().astype(int)"
   ]
  },
  {
   "cell_type": "code",
   "execution_count": 5,
   "metadata": {},
   "outputs": [
    {
     "data": {
      "text/plain": [
       "<matplotlib.axes._subplots.AxesSubplot at 0x7fbc7ed100b8>"
      ]
     },
     "execution_count": 5,
     "metadata": {},
     "output_type": "execute_result"
    },
    {
     "data": {
      "image/png": "[encoded data removed]",
      "text/plain": [
       "<Figure size 1728x720 with 2 Axes>"
      ]
     },
     "metadata": {},
     "output_type": "display_data"
    }
   ],
   "source": [
    "msno.bar(pd.DataFrame(x).sample(10)) "
   ]
  },
  {
   "cell_type": "code",
   "execution_count": null,
   "metadata": {},
   "outputs": [],
   "source": [
    "#--------------------\n",
    "# Link the hierarchical output matrix, figure out orientation, construct base dendrogram.\n",
    "#--------------------\n",
    "z = hierarchy.linkage(x, method)\n"
   ]
  },
  {
   "cell_type": "code",
   "execution_count": null,
   "metadata": {},
   "outputs": [],
   "source": [
    "#--------------------\n",
    "# visualization\n",
    "#--------------------\n",
    "from matplotlib import gridspec\n",
    "orientation=None\n",
    "fontsize=16\n",
    "figsize=(25, 10)\n",
    "if not orientation:\n",
    "    if len(df.columns) > 50:\n",
    "        orientation = 'left'\n",
    "    else:\n",
    "        orientation = 'bottom'\n",
    "fig = plt.figure(figsize=figsize)\n",
    "gs = gridspec.GridSpec(1, 1)\n",
    "ax0 = plt.subplot(gs[0])\n",
    "ret = hierarchy.dendrogram(z,\n",
    "                           orientation=orientation,\n",
    "                           labels= df.columns.tolist(),\n",
    "                           distance_sort='descending',\n",
    "                           leaf_font_size=fontsize,\n",
    "                           ax=ax0\n",
    "                           )"
   ]
  },
  {
   "cell_type": "code",
   "execution_count": null,
   "metadata": {},
   "outputs": [],
   "source": [
    "set(ret['color_list'])"
   ]
  },
  {
   "cell_type": "code",
   "execution_count": null,
   "metadata": {},
   "outputs": [],
   "source": [
    "ret.keys()"
   ]
  },
  {
   "cell_type": "code",
   "execution_count": null,
   "metadata": {},
   "outputs": [],
   "source": [
    "#--------------------\n",
    "# clustering feature\n",
    "#--------------------\n",
    "t = 0\n",
    "b_index = []\n",
    "c_index = []\n",
    "g_index = []\n",
    "k_index = []\n",
    "m_index = []\n",
    "r_index = []\n",
    "y_index = []\n",
    "for c in ret['color_list']:\n",
    "    if c == 'b':\n",
    "        # a certain cluster\n",
    "        b_index.append(t)\n",
    "        t += 1\n",
    "    elif c == 'c':\n",
    "        # a certain cluster\n",
    "        c_index.append(t)\n",
    "        t += 1\n",
    "    elif c == 'g':\n",
    "        # a certain cluster\n",
    "        g_index.append(t)\n",
    "        t += 1\n",
    "    elif c == 'k':\n",
    "        # a certain cluster\n",
    "        k_index.append(t)\n",
    "        t += 1\n",
    "    elif c == 'm':\n",
    "        # a certain cluster\n",
    "        m_index.append(t)\n",
    "        t += 1\n",
    "    elif c == 'r':\n",
    "        # a certain cluster\n",
    "        r_index.append(t)\n",
    "        t += 1\n",
    "    elif c == 'y':\n",
    "        # a certain cluster\n",
    "        y_index.append(t)\n",
    "        t += 1\n",
    "    else:\n",
    "        print ('fuck')\n",
    "        t += 1"
   ]
  },
  {
   "cell_type": "code",
   "execution_count": null,
   "metadata": {},
   "outputs": [],
   "source": [
    "b_f = [ret['ivl'][i] for i in b_index]\n",
    "c_f = [ret['ivl'][i] for i in c_index]\n",
    "g_f = [ret['ivl'][i] for i in g_index]\n",
    "k_f = [ret['ivl'][i] for i in k_index]\n",
    "m_f = [ret['ivl'][i] for i in m_index]\n",
    "r_f = [ret['ivl'][i] for i in r_index]\n",
    "y_f = [ret['ivl'][i] for i in y_index]"
   ]
  },
  {
   "cell_type": "code",
   "execution_count": null,
   "metadata": {},
   "outputs": [],
   "source": [
    "# unit test\n",
    "len(b_f) + len(c_f) + len(g_f) + len(k_f) + len(m_f) + len(r_f) + len(y_f)"
   ]
  },
  {
   "cell_type": "code",
   "execution_count": null,
   "metadata": {},
   "outputs": [],
   "source": [
    "# unit test\n",
    "'SK_ID_CURR' in c_f"
   ]
  },
  {
   "cell_type": "code",
   "execution_count": null,
   "metadata": {},
   "outputs": [],
   "source": [
    "set(df.columns.tolist()) - set(b_f) - set(c_f) - set(g_f) - set(k_f) - set(m_f) - set(r_f) - set(y_f)"
   ]
  },
  {
   "cell_type": "code",
   "execution_count": null,
   "metadata": {},
   "outputs": [],
   "source": [
    "len(b_f), len(c_f), len(g_f), len(k_f), len(m_f), len(r_f), len(y_f)"
   ]
  },
  {
   "cell_type": "code",
   "execution_count": null,
   "metadata": {},
   "outputs": [],
   "source": []
  },
  {
   "cell_type": "code",
   "execution_count": null,
   "metadata": {},
   "outputs": [],
   "source": [
    "#---------\n",
    "# setting\n",
    "#---------\n",
    "log_dir = '../log_mice_inputation'\n",
    "init_logging(log_dir)\n"
   ]
  },
  {
   "cell_type": "code",
   "execution_count": null,
   "metadata": {
    "scrolled": false
   },
   "outputs": [],
   "source": [
    "from fancyimpute import MICE # for imputing\n",
    "\n",
    "output_filled_ls = []\n",
    "# unit test if MICE algorithm will change the order of DataFrame\n",
    "for cluster_features in [b_f, c_f, g_f, k_f, m_f, r_f, y_f]:\n",
    "    print (df[cluster_features].shape)\n",
    "    X_missing = df[cluster_features].copy()\n",
    "    #-------------------\n",
    "    # core algorithm: input should be array\n",
    "    #-------------------\n",
    "    logging.info('num_input_features: {}'.format(len(cluster_features)))\n",
    "    logging.info('visit_sequence: {}'.format('monotone')) \n",
    "    logging.info('impute_type: {}'.format('col')) \n",
    "    logging.info('init_fill_method: {}'.format('mean')) \n",
    "    try:\n",
    "        X_filled = MICE(visit_sequence = 'monotone', \n",
    "                        impute_type = 'col',\n",
    "                        init_fill_method = 'mean').complete(X_missing.values)\n",
    "    except Exception:\n",
    "        logging.info('bug: {}'.format(cluster_features)) \n",
    "        X_filled = X_missing.values\n",
    "    output_filled_ls.append(pd.DataFrame(X_filled, columns = X_missing.columns))\n"
   ]
  },
  {
   "cell_type": "code",
   "execution_count": null,
   "metadata": {},
   "outputs": [],
   "source": [
    "output_filled_ls[0]"
   ]
  },
  {
   "cell_type": "code",
   "execution_count": null,
   "metadata": {},
   "outputs": [],
   "source": [
    "#---------\n",
    "# output\n",
    "#---------\n",
    "import gc\n",
    "X_filled = pd.concat(output_filled_ls, axis = 1)\n",
    "X_filled.drop(['TARGET'], axis = 1, inplace = True)\n",
    "gc.collect()\n",
    "X_filled.SK_ID_CURR = X_filled.SK_ID_CURR.astype(int)\n",
    "logging.info('there will be no bugging in merge' if X_filled.SK_ID_CURR.nunique() == df.SK_ID_CURR.nunique() else \"opps\")\n",
    "X_filled = pd.merge(X_filled, copy_for_the_following_merge, on = 'SK_ID_CURR', how = 'left')\n",
    "logging.info('final_shape : {}'.format(X_filled.shape))\n",
    "X_filled = pd.merge(X_filled, df[['SK_ID_CURR','CC_AMT_BALANCE_MEAN']], on = 'SK_ID_CURR', how = 'left')\n",
    "logging.info('final_shape : {}'.format(X_filled.shape))\n",
    "\n",
    "\n",
    "\n"
   ]
  },
  {
   "cell_type": "code",
   "execution_count": null,
   "metadata": {},
   "outputs": [],
   "source": [
    "#-------------------\n",
    "# save\n",
    "#-------------------\n",
    "output_path = '../features/filled_by_mice'\n",
    "if not os.path.isdir(output_path):\n",
    "    os.mkdir(output_path)\n",
    "\n",
    "X_filled.to_hdf(\n",
    "    os.path.join(output_path, 'base_featurs_filled_mice_clustering.h5'), 'base_featurs_filled_mice_clustering')\n"
   ]
  },
  {
   "cell_type": "code",
   "execution_count": null,
   "metadata": {},
   "outputs": [],
   "source": [
    "# 如果這樣補植沒有好壞\n",
    "X_filled"
   ]
  },
  {
   "cell_type": "code",
   "execution_count": null,
   "metadata": {},
   "outputs": [],
   "source": []
  }
 ],
 "metadata": {
  "kernelspec": {
   "display_name": "Python 3",
   "language": "python",
   "name": "python3"
  },
  "language_info": {
   "codemirror_mode": {
    "name": "ipython",
    "version": 3
   },
   "file_extension": ".py",
   "mimetype": "text/x-python",
   "name": "python",
   "nbconvert_exporter": "python",
   "pygments_lexer": "ipython3",
   "version": "3.6.5"
  }
 },
 "nbformat": 4,
 "nbformat_minor": 2
}
