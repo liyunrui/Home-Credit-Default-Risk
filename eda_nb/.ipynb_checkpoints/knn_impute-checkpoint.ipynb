{
 "cells": [
  {
   "cell_type": "code",
   "execution_count": 2,
   "metadata": {},
   "outputs": [],
   "source": [
    "'''\n",
    "Created on 31 July\n",
    "\n",
    "@author: Ray\n",
    "\n",
    "Next_Step: we can choose which subset of \n",
    "Reference: https://hcmy.gitbooks.io/ycimpute/content/shi-yong-knn/yuan-li.html\n",
    "'''\n",
    "\n",
    "from ycimpute.imputer.knnimput import KNN # inputation library\n",
    "import pandas as pd\n",
    "import numpy as np\n",
    "import time\n",
    "import os\n",
    "import multiprocessing as mp # for speeding up some process\n",
    "import sys\n",
    "sys.path.append('../py_model')\n",
    "from utils import init_logging\n",
    "import logging \n"
   ]
  },
  {
   "cell_type": "code",
   "execution_count": 3,
   "metadata": {},
   "outputs": [
    {
     "name": "stderr",
     "output_type": "stream",
     "text": [
      "shape of base_featurs : (356251, 280)\n",
      "no mistake on splitting based on shape\n",
      "no mistakg on splltting based on length\n"
     ]
    }
   ],
   "source": [
    "#---------------------------------------------\n",
    "# Step1: Loading base_features\n",
    "#---------------------------------------------\n",
    "\n",
    "# setting\n",
    "\n",
    "log_dir = '../log_knn_inputation'\n",
    "init_logging(log_dir)\n",
    "\n",
    "df = pd.read_hdf('../features/base_featurs.h5','base_featurs')\n",
    "\n",
    "copy_for_the_following_merge = df[['SK_ID_CURR','TARGET']].copy()\n",
    "no_need_to_inpute = ['index']\n",
    "df.drop(no_need_to_inpute, axis = 1, inplace = True)\n",
    "\n",
    "logging.info('shape of base_featurs : {}'.format(df.shape) )\n",
    "#---------------------------------------------\n",
    "# Step2: split dataframe into multiple dataframe to avoid memory problem\n",
    "#---------------------------------------------\n",
    "\n",
    "small_df_ls = []\n",
    "# shuffle\n",
    "df = df.sample(frac = 1.0, replace = False) # without replacement\n",
    "\n",
    "num_split = 25\n",
    "previous_step = None\n",
    "for i, step in enumerate(np.arange(0, df.shape[0], step = int(df.shape[0] / num_split))):\n",
    "    # for memory problem, we cannot feed all the data points into algorithm, which depends on row and n_features\n",
    "    if i == 0:\n",
    "        pass\n",
    "    elif i == 1:\n",
    "        small_df_ls.append(df[0: step])\n",
    "        previous_step = step\n",
    "    elif i == (num_split):\n",
    "        small_df_ls.append(df[previous_step: ])\n",
    "        break\n",
    "    else:\n",
    "        small_df_ls.append(df[previous_step: step])\n",
    "        previous_step = step\n",
    "\n",
    "# unit testing\n",
    "logging.info('no mistake on splitting based on shape' if pd.concat(small_df_ls, axis = 0).shape[0] == len(df) else 'oops, sth wrong in splitting')\n",
    "logging.info('no mistakg on splltting based on length' if len(small_df_ls) == num_split  else \"oops, sth wrong in splitting\")\n"
   ]
  },
  {
   "cell_type": "code",
   "execution_count": null,
   "metadata": {},
   "outputs": [],
   "source": [
    "\n",
    "#---------------------------------------------\n",
    "# Step3: imputatiing based on imputation method u chossed\n",
    "#---------------------------------------------\n",
    "\n",
    "def imputation(k):\n",
    "\tfor drop_targtet in [False]: \n",
    "\t\t#-------------------\n",
    "\t\t# imputating\n",
    "\t\t#------------------\n",
    "\t\tsmall_df_filled_ls = []\n",
    "\t\tfor small_df in small_df_ls:\n",
    "\t\t\t# preprocessing for algorithm\n",
    "\t\t\tif drop_targtet == True:\n",
    "\t\t\t\t# avoidnig using TARGET to impute\n",
    "\t\t\t\tname = 'wo_target'\n",
    "\t\t\t\tX_missing = small_df.copy()\n",
    "\t\t\t\tX_missing.drop(['TARGET'], axis =1, inplace = True)\n",
    "\t\t\telse:\n",
    "\t\t\t\tname = 'w_target'\n",
    "\t\t\t\tX_missing = small_df.copy()\n",
    "\t\t\t# core algorithm: input should be array\n",
    "\t\t\tX_filled = KNN(k = k, verbose = True).complete(X_missing.values)\n",
    "\t\t\tsmall_df_filled_ls.append(pd.DataFrame(X_filled, columns = X_missing.columns))\n",
    "\n",
    "\t\tlogging.info('k : {}'.format(k))\n",
    "\t\tlogging.info('case: {}'.format(name))\n",
    "\t\t#-------------------\n",
    "\t\t# output\n",
    "\t\t#-------------------\n",
    "\t\tdf_filled = pd.concat(small_df_filled_ls, axis = 0)\n",
    "\t\tdf_filled.SK_ID_CURR = df_filled.SK_ID_CURR.astype(int)\n",
    "\t\tlogging.info('there will be no bugging in merge' if df_filled.SK_ID_CURR.nunique() == df.SK_ID_CURR.nunique() else \"opps\")\n",
    "\n",
    "\t\t#\n",
    "\t\tif drop_targtet == True: \n",
    "\t\t\tpass\n",
    "\t\telse:\n",
    "\t\t\tdf_filled.drop(['TARGET'], axis = 1, inplace = True)\n",
    "\n",
    "\t\tdf_filled = pd.merge(df_filled, copy_for_the_following_merge, on = 'SK_ID_CURR', how = 'left')\n",
    "\t\tlogging.info('final_shape : {}'.format(df_filled.shape))\n",
    "\t\t#-------------------\n",
    "\t\t# save\n",
    "\t\t#-------------------\n",
    "\t\toutput_path = '../features/filled_by_knn'\n",
    "\t\tif not os.path.isdir(output_path):\n",
    "\t\t\tos.mkdir(output_path)\n",
    "\n",
    "\t\tdf_filled.to_hdf(\n",
    "\t\t\tos.path.join(output_path, 'base_featurs_filled_knn_{}_{}.h5'.format(k, name)), \n",
    "\t\t\t'base_featurs_filled_knn_{}_{}.h5'.format(k, name))\n",
    "\n",
    "def multi(k):\n",
    "\t'''\n",
    "\tIt's for using multi preprosessing to speed up the process.\n",
    "\n",
    "\tparameters:\n",
    "\t---------------------\n",
    "\tT: 5, 10, 15, 20\n",
    "\t'''\n",
    "\timputation(k)\n",
    "\n"
   ]
  },
  {
   "cell_type": "code",
   "execution_count": null,
   "metadata": {},
   "outputs": [],
   "source": [
    "##################################################\n",
    "# Main\n",
    "##################################################\n",
    "\n",
    "s = time.time()\n",
    "\n",
    "mp_pool = mp.Pool(15) # 4 == len of the below list\n",
    "mp_pool.map(multi, [k for k in np.arange(25, 100, step = 5)]) \n",
    "\n",
    "e = time.time()\n",
    "\n",
    "logging.info('{} secs'.format(e-s))\n"
   ]
  },
  {
   "cell_type": "code",
   "execution_count": 4,
   "metadata": {},
   "outputs": [
    {
     "data": {
      "text/plain": [
       "[25, 30, 35, 40, 45, 50, 55, 60, 65, 70, 75, 80, 85, 90, 95]"
      ]
     },
     "execution_count": 4,
     "metadata": {},
     "output_type": "execute_result"
    }
   ],
   "source": [
    "[k for k in np.arange(25, 100, step = 5)]"
   ]
  },
  {
   "cell_type": "code",
   "execution_count": null,
   "metadata": {},
   "outputs": [],
   "source": []
  }
 ],
 "metadata": {
  "kernelspec": {
   "display_name": "Python 3",
   "language": "python",
   "name": "python3"
  },
  "language_info": {
   "codemirror_mode": {
    "name": "ipython",
    "version": 3
   },
   "file_extension": ".py",
   "mimetype": "text/x-python",
   "name": "python",
   "nbconvert_exporter": "python",
   "pygments_lexer": "ipython3",
   "version": "3.6.5"
  }
 },
 "nbformat": 4,
 "nbformat_minor": 2
}
