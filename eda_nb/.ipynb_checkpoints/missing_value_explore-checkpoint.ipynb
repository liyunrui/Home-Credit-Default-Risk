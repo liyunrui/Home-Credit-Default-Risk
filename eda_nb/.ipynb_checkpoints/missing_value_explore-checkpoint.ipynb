{
 "cells": [
  {
   "cell_type": "code",
   "execution_count": 1,
   "metadata": {},
   "outputs": [
    {
     "name": "stderr",
     "output_type": "stream",
     "text": [
      "Using TensorFlow backend.\n"
     ]
    }
   ],
   "source": [
    "import fancyimpute \n",
    "import pandas as pd\n",
    "import numpy as np\n",
    "import missingno as msno # visualzing missing value\n",
    "from fancyimpute import BiScaler, KNN, NuclearNormMinimization, SoftImpute\n",
    "from ycimpute.imputer.mice import MICE\n",
    "import time"
   ]
  },
  {
   "cell_type": "markdown",
   "metadata": {},
   "source": [
    "# what is the best imputation method?\n",
    "### Data loss mechanism varies in different scenarios, which requires the engineer to choose the appropriate filling method based on the context of data on hand."
   ]
  },
  {
   "cell_type": "markdown",
   "metadata": {},
   "source": [
    "# input of imputation is base_features\n",
    "### do we need to do feature selection(no need to think about it)"
   ]
  },
  {
   "cell_type": "code",
   "execution_count": 2,
   "metadata": {},
   "outputs": [
    {
     "name": "stdout",
     "output_type": "stream",
     "text": [
      "(356251, 218)\n"
     ]
    }
   ],
   "source": [
    "df = pd.read_hdf('../features/base_featurs.h5','base_featurs')\n",
    "no_need_to_inpute = ['SK_ID_CURR','index']\n",
    "df.drop(no_need_to_inpute,axis = 1, inplace = True)\n",
    "print (df.shape)"
   ]
  },
  {
   "cell_type": "code",
   "execution_count": 3,
   "metadata": {},
   "outputs": [
    {
     "data": {
      "text/html": [
       "<div>\n",
       "<style scoped>\n",
       "    .dataframe tbody tr th:only-of-type {\n",
       "        vertical-align: middle;\n",
       "    }\n",
       "\n",
       "    .dataframe tbody tr th {\n",
       "        vertical-align: top;\n",
       "    }\n",
       "\n",
       "    .dataframe thead th {\n",
       "        text-align: right;\n",
       "    }\n",
       "</style>\n",
       "<table border=\"1\" class=\"dataframe\">\n",
       "  <thead>\n",
       "    <tr style=\"text-align: right;\">\n",
       "      <th></th>\n",
       "      <th>AMT_ANNUITY</th>\n",
       "      <th>AMT_CREDIT</th>\n",
       "      <th>AMT_GOODS_PRICE</th>\n",
       "      <th>AMT_REQ_CREDIT_BUREAU_QRT</th>\n",
       "      <th>APARTMENTS_MEDI</th>\n",
       "      <th>CODE_GENDER</th>\n",
       "      <th>DAYS_BIRTH</th>\n",
       "      <th>DAYS_EMPLOYED</th>\n",
       "      <th>DAYS_ID_PUBLISH</th>\n",
       "      <th>DAYS_LAST_PHONE_CHANGE</th>\n",
       "      <th>...</th>\n",
       "      <th>CC_AMT_TOTAL_RECEIVABLE_MEAN</th>\n",
       "      <th>CC_AMT_TOTAL_RECEIVABLE_SUM</th>\n",
       "      <th>CC_AMT_TOTAL_RECEIVABLE_VAR</th>\n",
       "      <th>CC_CNT_DRAWINGS_ATM_CURRENT_MEAN</th>\n",
       "      <th>CC_CNT_DRAWINGS_ATM_CURRENT_VAR</th>\n",
       "      <th>CC_CNT_DRAWINGS_CURRENT_MAX</th>\n",
       "      <th>CC_CNT_DRAWINGS_CURRENT_MEAN</th>\n",
       "      <th>CC_CNT_DRAWINGS_CURRENT_VAR</th>\n",
       "      <th>CC_CNT_DRAWINGS_POS_CURRENT_MAX</th>\n",
       "      <th>CC_NAME_CONTRACT_STATUS_Active_MIN</th>\n",
       "    </tr>\n",
       "  </thead>\n",
       "  <tbody>\n",
       "    <tr>\n",
       "      <th>0</th>\n",
       "      <td>24700.5</td>\n",
       "      <td>406597.5</td>\n",
       "      <td>351000.0</td>\n",
       "      <td>0.0</td>\n",
       "      <td>0.0250</td>\n",
       "      <td>0</td>\n",
       "      <td>-9461</td>\n",
       "      <td>-637.0</td>\n",
       "      <td>-2120</td>\n",
       "      <td>-1134.0</td>\n",
       "      <td>...</td>\n",
       "      <td>NaN</td>\n",
       "      <td>NaN</td>\n",
       "      <td>NaN</td>\n",
       "      <td>NaN</td>\n",
       "      <td>NaN</td>\n",
       "      <td>NaN</td>\n",
       "      <td>NaN</td>\n",
       "      <td>NaN</td>\n",
       "      <td>NaN</td>\n",
       "      <td>NaN</td>\n",
       "    </tr>\n",
       "    <tr>\n",
       "      <th>1</th>\n",
       "      <td>35698.5</td>\n",
       "      <td>1293502.5</td>\n",
       "      <td>1129500.0</td>\n",
       "      <td>0.0</td>\n",
       "      <td>0.0968</td>\n",
       "      <td>1</td>\n",
       "      <td>-16765</td>\n",
       "      <td>-1188.0</td>\n",
       "      <td>-291</td>\n",
       "      <td>-828.0</td>\n",
       "      <td>...</td>\n",
       "      <td>NaN</td>\n",
       "      <td>NaN</td>\n",
       "      <td>NaN</td>\n",
       "      <td>NaN</td>\n",
       "      <td>NaN</td>\n",
       "      <td>NaN</td>\n",
       "      <td>NaN</td>\n",
       "      <td>NaN</td>\n",
       "      <td>NaN</td>\n",
       "      <td>NaN</td>\n",
       "    </tr>\n",
       "    <tr>\n",
       "      <th>2</th>\n",
       "      <td>6750.0</td>\n",
       "      <td>135000.0</td>\n",
       "      <td>135000.0</td>\n",
       "      <td>0.0</td>\n",
       "      <td>NaN</td>\n",
       "      <td>0</td>\n",
       "      <td>-19046</td>\n",
       "      <td>-225.0</td>\n",
       "      <td>-2531</td>\n",
       "      <td>-815.0</td>\n",
       "      <td>...</td>\n",
       "      <td>NaN</td>\n",
       "      <td>NaN</td>\n",
       "      <td>NaN</td>\n",
       "      <td>NaN</td>\n",
       "      <td>NaN</td>\n",
       "      <td>NaN</td>\n",
       "      <td>NaN</td>\n",
       "      <td>NaN</td>\n",
       "      <td>NaN</td>\n",
       "      <td>NaN</td>\n",
       "    </tr>\n",
       "    <tr>\n",
       "      <th>3</th>\n",
       "      <td>29686.5</td>\n",
       "      <td>312682.5</td>\n",
       "      <td>297000.0</td>\n",
       "      <td>NaN</td>\n",
       "      <td>NaN</td>\n",
       "      <td>1</td>\n",
       "      <td>-19005</td>\n",
       "      <td>-3039.0</td>\n",
       "      <td>-2437</td>\n",
       "      <td>-617.0</td>\n",
       "      <td>...</td>\n",
       "      <td>0.0</td>\n",
       "      <td>0.0</td>\n",
       "      <td>0.0</td>\n",
       "      <td>NaN</td>\n",
       "      <td>NaN</td>\n",
       "      <td>0.0</td>\n",
       "      <td>0.0</td>\n",
       "      <td>0.0</td>\n",
       "      <td>NaN</td>\n",
       "      <td>1.0</td>\n",
       "    </tr>\n",
       "    <tr>\n",
       "      <th>4</th>\n",
       "      <td>21865.5</td>\n",
       "      <td>513000.0</td>\n",
       "      <td>513000.0</td>\n",
       "      <td>0.0</td>\n",
       "      <td>NaN</td>\n",
       "      <td>0</td>\n",
       "      <td>-19932</td>\n",
       "      <td>-3038.0</td>\n",
       "      <td>-3458</td>\n",
       "      <td>-1106.0</td>\n",
       "      <td>...</td>\n",
       "      <td>NaN</td>\n",
       "      <td>NaN</td>\n",
       "      <td>NaN</td>\n",
       "      <td>NaN</td>\n",
       "      <td>NaN</td>\n",
       "      <td>NaN</td>\n",
       "      <td>NaN</td>\n",
       "      <td>NaN</td>\n",
       "      <td>NaN</td>\n",
       "      <td>NaN</td>\n",
       "    </tr>\n",
       "  </tbody>\n",
       "</table>\n",
       "<p>5 rows × 218 columns</p>\n",
       "</div>"
      ],
      "text/plain": [
       "   AMT_ANNUITY  AMT_CREDIT  AMT_GOODS_PRICE  AMT_REQ_CREDIT_BUREAU_QRT  \\\n",
       "0      24700.5    406597.5         351000.0                        0.0   \n",
       "1      35698.5   1293502.5        1129500.0                        0.0   \n",
       "2       6750.0    135000.0         135000.0                        0.0   \n",
       "3      29686.5    312682.5         297000.0                        NaN   \n",
       "4      21865.5    513000.0         513000.0                        0.0   \n",
       "\n",
       "   APARTMENTS_MEDI  CODE_GENDER  DAYS_BIRTH  DAYS_EMPLOYED  DAYS_ID_PUBLISH  \\\n",
       "0           0.0250            0       -9461         -637.0            -2120   \n",
       "1           0.0968            1      -16765        -1188.0             -291   \n",
       "2              NaN            0      -19046         -225.0            -2531   \n",
       "3              NaN            1      -19005        -3039.0            -2437   \n",
       "4              NaN            0      -19932        -3038.0            -3458   \n",
       "\n",
       "   DAYS_LAST_PHONE_CHANGE                 ...                  \\\n",
       "0                 -1134.0                 ...                   \n",
       "1                  -828.0                 ...                   \n",
       "2                  -815.0                 ...                   \n",
       "3                  -617.0                 ...                   \n",
       "4                 -1106.0                 ...                   \n",
       "\n",
       "   CC_AMT_TOTAL_RECEIVABLE_MEAN  CC_AMT_TOTAL_RECEIVABLE_SUM  \\\n",
       "0                           NaN                          NaN   \n",
       "1                           NaN                          NaN   \n",
       "2                           NaN                          NaN   \n",
       "3                           0.0                          0.0   \n",
       "4                           NaN                          NaN   \n",
       "\n",
       "   CC_AMT_TOTAL_RECEIVABLE_VAR  CC_CNT_DRAWINGS_ATM_CURRENT_MEAN  \\\n",
       "0                          NaN                               NaN   \n",
       "1                          NaN                               NaN   \n",
       "2                          NaN                               NaN   \n",
       "3                          0.0                               NaN   \n",
       "4                          NaN                               NaN   \n",
       "\n",
       "   CC_CNT_DRAWINGS_ATM_CURRENT_VAR  CC_CNT_DRAWINGS_CURRENT_MAX  \\\n",
       "0                              NaN                          NaN   \n",
       "1                              NaN                          NaN   \n",
       "2                              NaN                          NaN   \n",
       "3                              NaN                          0.0   \n",
       "4                              NaN                          NaN   \n",
       "\n",
       "   CC_CNT_DRAWINGS_CURRENT_MEAN  CC_CNT_DRAWINGS_CURRENT_VAR  \\\n",
       "0                           NaN                          NaN   \n",
       "1                           NaN                          NaN   \n",
       "2                           NaN                          NaN   \n",
       "3                           0.0                          0.0   \n",
       "4                           NaN                          NaN   \n",
       "\n",
       "   CC_CNT_DRAWINGS_POS_CURRENT_MAX  CC_NAME_CONTRACT_STATUS_Active_MIN  \n",
       "0                              NaN                                 NaN  \n",
       "1                              NaN                                 NaN  \n",
       "2                              NaN                                 NaN  \n",
       "3                              NaN                                 1.0  \n",
       "4                              NaN                                 NaN  \n",
       "\n",
       "[5 rows x 218 columns]"
      ]
     },
     "execution_count": 3,
     "metadata": {},
     "output_type": "execute_result"
    }
   ],
   "source": [
    "df.head()"
   ]
  },
  {
   "cell_type": "code",
   "execution_count": null,
   "metadata": {},
   "outputs": [],
   "source": [
    "msno.bar(df.sample(5000))"
   ]
  },
  {
   "cell_type": "markdown",
   "metadata": {},
   "source": [
    "# KNN inputation:\n",
    "\n",
    "# In this tutorial we will use a non-parametric algorithm called k-nearest-neighbors (KNN) to replace missing values. This algorithm is applicable in any of the three previous situation, as long as there is a relationship between the variable with the missing value and the other variables.\n",
    "\n",
    "# The assumption behind using KNN for missing values is that a point value can be approximated by the values of the points that are closest to it, based on other variables.\n",
    "\n",
    "\n",
    "# each point in a vector space is a training example\n",
    "\n",
    "# Reference: https://towardsdatascience.com/the-use-of-knn-for-missing-values-cf33d935c637(they provided library but I didnot use this one)\n",
    "# Library: https://github.com/YunnanShuke/ycimpute/blob/master/doc_eng.md"
   ]
  },
  {
   "cell_type": "markdown",
   "metadata": {},
   "source": [
    "# Step1: split dataframe into multiple dataframe to avoid memory problem"
   ]
  },
  {
   "cell_type": "code",
   "execution_count": null,
   "metadata": {},
   "outputs": [],
   "source": [
    "small_df_ls = []\n",
    "# shuffle\n",
    "df = df.sample(frac = 1.0)\n",
    "print (df.shape)\n",
    "num_split = 25\n",
    "previous_step = None\n",
    "for i, step in enumerate(np.arange(0, df.shape[0], step = int(df.shape[0] / num_split))):\n",
    "    # for memory problem, we cannot feed all the data points into algorithm, which depends on row and n_features\n",
    "    if i == 0:\n",
    "        pass\n",
    "    elif i == 1:\n",
    "        small_df_ls.append(df[0: step])\n",
    "        previous_step = step\n",
    "    elif i == (num_split):\n",
    "        small_df_ls.append(df[previous_step: ])\n",
    "        break\n",
    "    else:\n",
    "        small_df_ls.append(df[previous_step: step])\n",
    "        previous_step = step\n",
    "# unit testing\n",
    "print ('no mistake on splitting based on shape' if pd.concat(small_df_ls, axis = 0).shape[0] == len(df)\n",
    "       else 'oops, sth wrong in splitting')\n",
    "print ('no mistakg on splltting based on length' if len(small_df_ls) == num_split \n",
    "       else \"oops, sth wrong in splitting\")\n"
   ]
  },
  {
   "cell_type": "markdown",
   "metadata": {},
   "source": [
    "# Step2: imputatiing based on imputation method u chossed"
   ]
  },
  {
   "cell_type": "code",
   "execution_count": null,
   "metadata": {},
   "outputs": [],
   "source": [
    "# core\n",
    "s = time.time() \n",
    "drop_targtet = False\n",
    "small_df_filled_ls = []\n",
    "k = 5 # by default\n",
    "for small_df in small_df_ls:\n",
    "    # setting\n",
    "    print ('num_traning_point', len(small_df))\n",
    "    # preprocessing for algorithm\n",
    "    if drop_targtet == True:\n",
    "        # avoidnig using TARGET to impute\n",
    "        small_df.drop(['TARGET'], axis =1, inplace = True)\n",
    "        X_missing = small_df.head(n = 5).copy()\n",
    "    else:\n",
    "        X_missing = small_df.head(n = 5).copy()\n",
    "    # core algorithm: input should be array\n",
    "    X_filled = KNN(k = k).complete(X_missing.values)\n",
    "    small_df_filled_ls.append(pd.DataFrame(X_filled, columns = X_missing.columns))\n",
    "e = time.time()\n",
    "print (e-s) # 790 secs =~ 10 mins"
   ]
  },
  {
   "cell_type": "code",
   "execution_count": null,
   "metadata": {},
   "outputs": [],
   "source": [
    "[len(i) for i in small_df_filled_ls], len(small_df_filled_ls)"
   ]
  },
  {
   "cell_type": "code",
   "execution_count": null,
   "metadata": {},
   "outputs": [],
   "source": [
    "# output\n",
    "df_filled = pd.concat(small_df_filled_ls, axis = 0)\n",
    "print (df_filled.shape)"
   ]
  },
  {
   "cell_type": "code",
   "execution_count": null,
   "metadata": {},
   "outputs": [],
   "source": [
    "df.shape[0] / 17812 * 790/ 60/60 \n",
    "# 約花4.3小時去填充完整個features"
   ]
  },
  {
   "cell_type": "code",
   "execution_count": null,
   "metadata": {},
   "outputs": [],
   "source": [
    "from ycimpute.imputer.knnimput import KNN\n",
    "s = time.time()\n",
    "# setting\n",
    "num_traning_point = int(df.shape[0] * 0.05) # for memory problem, we cannot feed all the data points into algorithm, which depends on row and n_features\n",
    "print ('num_traning_point', num_traning_point)\n",
    "# no distance can tune\n",
    "# preprocessing for algorithm\n",
    "drop_targtet = False\n",
    "if drop_targtet == True:\n",
    "    # avoidnig using TARGET to impute\n",
    "    df.drop(['TARGET'], axis =1, inplace = True)\n",
    "    X_missing = df.sample(n = num_traning_point).copy()\n",
    "else:\n",
    "    X_missing = df.sample(n = num_traning_point).copy()\n",
    "# \n",
    "msno.bar(X_missing)\n",
    "# core algorithm: input should be array\n",
    "X_filled = KNN(k = 3).complete(X_missing.values)\n",
    "e = time.time()\n",
    "print (e-s) # 790 secs =~ 10 mins"
   ]
  },
  {
   "cell_type": "code",
   "execution_count": null,
   "metadata": {},
   "outputs": [],
   "source": [
    "# input of msno is DataFrame\n",
    "X_filled = pd.DataFrame(X_filled, columns = X_missing.columns)\n",
    "msno.bar(X_filled)"
   ]
  },
  {
   "cell_type": "markdown",
   "metadata": {},
   "source": [
    "# Nearest neighbor imputations which weights samples using the mean squared difference on features for which two rows both have observed data.\n",
    "\n",
    "### The assumption behind using KNN for missing values is that a point value can be approximated by the values of the points that are closest to it, based on other variables."
   ]
  },
  {
   "cell_type": "code",
   "execution_count": null,
   "metadata": {},
   "outputs": [],
   "source": [
    "# X is the complete data matrix\n",
    "\n",
    "# X_incomplete has the same values as X except a subset have been replace with NaN\n",
    "\n",
    "# Use 3 nearest rows which have a feature to fill in each row's missing features\n",
    "X_filled_knn = KNN(k = 1).complete(X_incomplete)\n",
    "\n",
    "\n",
    "\n"
   ]
  },
  {
   "cell_type": "code",
   "execution_count": null,
   "metadata": {},
   "outputs": [],
   "source": [
    "pd.DataFrame(X_filled_knn, columns = X_incomplete.columns)"
   ]
  },
  {
   "cell_type": "code",
   "execution_count": null,
   "metadata": {},
   "outputs": [],
   "source": [
    "X_incomplete = df[['APARTMENTS_MEDI']].head(10)\n",
    "X_incomplete"
   ]
  },
  {
   "cell_type": "code",
   "execution_count": null,
   "metadata": {},
   "outputs": [],
   "source": [
    "X_filled_knn = KNN(k = 1).complete(X_incomplete)\n"
   ]
  },
  {
   "cell_type": "code",
   "execution_count": null,
   "metadata": {},
   "outputs": [],
   "source": [
    "pd.DataFrame(X_filled_knn, columns = X_incomplete.columns)"
   ]
  },
  {
   "cell_type": "code",
   "execution_count": null,
   "metadata": {},
   "outputs": [],
   "source": [
    "msno.bar(pd.DataFrame(X_filled_knn))"
   ]
  },
  {
   "cell_type": "code",
   "execution_count": null,
   "metadata": {},
   "outputs": [],
   "source": [
    "# matrix completion using convex optimization to find low-rank solution\n",
    "# that still matches observed values. Slow!\n",
    "s = time.time()\n",
    "X_incomplete = df.copy()\n",
    "X_filled_nnm = NuclearNormMinimization().complete(X_incomplete)\n",
    "e = time.time()\n",
    "print (e-s)"
   ]
  },
  {
   "cell_type": "code",
   "execution_count": null,
   "metadata": {},
   "outputs": [],
   "source": [
    "# Instead of solving the nuclear norm objective directly, instead\n",
    "# induce sparsity using singular value thresholding\n",
    "import time\n",
    "s = time.time()\n",
    "X_incomplete = df.copy()\n",
    "X_filled_softimpute = SoftImpute().complete(X_incomplete)\n"
   ]
  },
  {
   "cell_type": "code",
   "execution_count": null,
   "metadata": {},
   "outputs": [],
   "source": [
    "# print mean squared error for the three imputation methods above\n",
    "nnm_mse = ((X_filled_nnm[missing_mask] - X[missing_mask]) ** 2).mean()\n",
    "print(\"Nuclear norm minimization MSE: %f\" % nnm_mse)\n",
    "\n",
    "softImpute_mse = ((X_filled_softimpute[missing_mask] - X[missing_mask]) ** 2).mean()\n",
    "print(\"SoftImpute MSE: %f\" % softImpute_mse)\n",
    "\n",
    "knn_mse = ((X_filled_knn[missing_mask] - X[missing_mask]) ** 2).mean()\n",
    "print(\"knnImpute MSE: %f\" % knn_mse)"
   ]
  },
  {
   "cell_type": "code",
   "execution_count": null,
   "metadata": {},
   "outputs": [],
   "source": [
    "for if_targer in [True, False]:\n",
    "    print (if_targer)"
   ]
  },
  {
   "cell_type": "code",
   "execution_count": 7,
   "metadata": {},
   "outputs": [
    {
     "name": "stdout",
     "output_type": "stream",
     "text": [
      "(356251, 218)\n",
      "Big DataFrame (356251, 218)\n",
      "no mistake on splitting based on shape\n",
      "no mistakg on splltting based on length\n"
     ]
    }
   ],
   "source": [
    "from ycimpute.imputer.knnimput import KNN # inputation library\n",
    "import pandas as pd\n",
    "import numpy as np\n",
    "import time\n",
    "import os\n",
    "import multiprocessing as mp # for speeding up some process\n",
    "\n",
    "df = pd.read_hdf('../features/base_featurs.h5','base_featurs')\n",
    "no_need_to_inpute = ['SK_ID_CURR','index']\n",
    "df.drop(no_need_to_inpute,axis = 1, inplace = True)\n",
    "print (df.shape)\n",
    "\n",
    "#---------------------------------------------\n",
    "# Step1: split dataframe into multiple dataframe to avoid memory problem\n",
    "#---------------------------------------------\n",
    "\n",
    "small_df_ls = []\n",
    "# shuffle\n",
    "df = df.sample(frac = 1.0)\n",
    "print ('Big DataFrame',df.shape)\n",
    "num_split = 25\n",
    "previous_step = None\n",
    "for i, step in enumerate(np.arange(0, df.shape[0], step = int(df.shape[0] / num_split))):\n",
    "    # for memory problem, we cannot feed all the data points into algorithm, which depends on row and n_features\n",
    "    if i == 0:\n",
    "        pass\n",
    "    elif i == 1:\n",
    "        small_df_ls.append(df[0: step])\n",
    "        previous_step = step\n",
    "    elif i == (num_split):\n",
    "        small_df_ls.append(df[previous_step: ])\n",
    "        break\n",
    "    else:\n",
    "        small_df_ls.append(df[previous_step: step])\n",
    "        previous_step = step\n",
    "# unit testing\n",
    "print ('no mistake on splitting based on shape' if pd.concat(small_df_ls, axis = 0).shape[0] == len(df)\n",
    "       else 'oops, sth wrong in splitting')\n",
    "print ('no mistakg on splltting based on length' if len(small_df_ls) == num_split \n",
    "       else \"oops, sth wrong in splitting\")"
   ]
  },
  {
   "cell_type": "code",
   "execution_count": 8,
   "metadata": {},
   "outputs": [],
   "source": [
    "def imputation(k):\n",
    "\tfor k in np.arange(5, 25, step = 5): \n",
    "\t\t#-------------------\n",
    "\t\t# imputating\n",
    "\t\t#------------------\n",
    "\t\tsmall_df_filled_ls = []\n",
    "\t\tfor small_df in small_df_ls:\n",
    "\t\t\t# preprocessing for algorithm\n",
    "\t\t\tif drop_targtet == True:\n",
    "\t\t\t\t# avoidnig using TARGET to impute\n",
    "\t\t\t\tname = 'wo_target'\n",
    "\t\t\t\tX_missing = small_df.head(n = 50).copy()\n",
    "\t\t\t\tX_missing.drop(['TARGET'], axis =1, inplace = True)\n",
    "\t\t\telse:\n",
    "\t\t\t\tname = 'w_target'\n",
    "\t\t\t\tX_missing = small_df.head(n = 50).copy()\n",
    "\t\t\t# core algorithm: input should be array\n",
    "\t\t\tX_filled = KNN(k = k, verbose = True).complete(X_missing.values)\n",
    "\t\t\tsmall_df_filled_ls.append(pd.DataFrame(X_filled, columns = X_missing.columns))\n",
    "\t\t#-------------------\n",
    "\t\t# output\n",
    "\t\t#-------------------\n",
    "\t\tdf_filled = pd.concat(small_df_filled_ls, axis = 0)\n",
    "\t\t#-------------------\n",
    "\t\t# save\n",
    "\t\t#-------------------\n",
    "\t\toutput_path = '../features/filled'\n",
    "\t\tif not os.path.isdir(output_path):\n",
    "\t\t\tos.mkdir(output_path)\n",
    "\n",
    "\t\tdf_filled.to_hdf(\n",
    "\t\t\tos.path.join(output_path, 'base_featurs_filled_knn_{}_{}.h5'.format(k, name)), \n",
    "\t\t\t'base_featurs_filled_knn_{}_{}.h5'.format(k, name))\n",
    "\n",
    "def multi(T):\n",
    "\t'''\n",
    "\tIt's for using multi preprosessing to speed up the process.\n",
    "\n",
    "\tparameters:\n",
    "\t---------------------\n",
    "\tT: True or False\n",
    "\t'''\n",
    "\timputation(k)"
   ]
  },
  {
   "cell_type": "code",
   "execution_count": 9,
   "metadata": {},
   "outputs": [
    {
     "name": "stderr",
     "output_type": "stream",
     "text": [
      "/home/linuxbrew/.linuxbrew/opt/python/lib/python3.6/site-packages/ycimpute/unsupervised/knn/normalized_distance.py:52: RuntimeWarning: invalid value encountered in subtract\n",
      "  np.subtract(X, x.reshape((1, n_cols)), out=diffs)\n",
      "/home/linuxbrew/.linuxbrew/opt/python/lib/python3.6/site-packages/ycimpute/unsupervised/knn/normalized_distance.py:52: RuntimeWarning: invalid value encountered in subtract\n",
      "  np.subtract(X, x.reshape((1, n_cols)), out=diffs)\n"
     ]
    },
    {
     "name": "stdout",
     "output_type": "stream",
     "text": [
      "Imputing row 1/50 with 8 missing, elapsed time: 0.018\n",
      "Imputing row 1/50 with 8 missing, elapsed time: 0.020\n",
      "Imputing row 1/50 with 102 missing, elapsed time: 0.004\n",
      "Imputing row 1/50 with 103 missing, elapsed time: 0.004\n",
      "Imputing row 1/50 with 11 missing, elapsed time: 0.004\n",
      "Imputing row 1/50 with 11 missing, elapsed time: 0.012\n",
      "Imputing row 1/50 with 34 missing, elapsed time: 0.004\n",
      "Imputing row 1/50 with 34 missing, elapsed time: 0.005\n",
      "Imputing row 1/50 with 34 missing, elapsed time: 0.004\n",
      "Imputing row 1/50 with 34 missing, elapsed time: 0.012\n",
      "Imputing row 1/50 with 42 missing, elapsed time: 0.009\n",
      "Imputing row 1/50 with 42 missing, elapsed time: 0.008\n",
      "Imputing row 1/50 with 38 missing, elapsed time: 0.004\n",
      "Imputing row 1/50 with 38 missing, elapsed time: 0.004\n",
      "Imputing row 1/50 with 17 missing, elapsed time: 0.004\n",
      "Imputing row 1/50 with 17 missing, elapsed time: 0.004\n",
      "Imputing row 1/50 with 47 missing, elapsed time: 0.004\n",
      "Imputing row 1/50 with 47 missing, elapsed time: 0.004\n",
      "Imputing row 1/50 with 55 missing, elapsed time: 0.004\n",
      "Imputing row 1/50 with 55 missing, elapsed time: 0.012\n",
      "Imputing row 1/50 with 37 missing, elapsed time: 0.004\n",
      "Imputing row 1/50 with 37 missing, elapsed time: 0.004\n",
      "Imputing row 1/50 with 9 missing, elapsed time: 0.004\n",
      "Imputing row 1/50 with 9 missing, elapsed time: 0.013\n",
      "Imputing row 1/50 with 41 missing, elapsed time: 0.020\n",
      "Imputing row 1/50 with 41 missing, elapsed time: 0.008\n",
      "Imputing row 1/50 with 40 missing, elapsed time: 0.004\n",
      "Imputing row 1/50 with 40 missing, elapsed time: 0.013\n",
      "Imputing row 1/50 with 40 missing, elapsed time: 0.020\n",
      "Imputing row 1/50 with 40 missing, elapsed time: 0.008\n",
      "[KNN] Warning: 7/10900 still missing after imputation, replacing with 0\n",
      "[KNN] Warning: 7/10850 still missing after imputation, replacing with 0\n",
      "Imputing row 1/50 with 70 missing, elapsed time: 0.004\n",
      "Imputing row 1/50 with 70 missing, elapsed time: 0.019\n",
      "Imputing row 1/50 with 68 missing, elapsed time: 0.004\n",
      "Imputing row 1/50 with 68 missing, elapsed time: 0.004\n",
      "Imputing row 1/50 with 73 missing, elapsed time: 0.004\n",
      "Imputing row 1/50 with 73 missing, elapsed time: 0.009\n",
      "Imputing row 1/50 with 20 missing, elapsed time: 0.004\n",
      "Imputing row 1/50 with 20 missing, elapsed time: 0.012\n",
      "Imputing row 1/50 with 41 missing, elapsed time: 0.004\n",
      "Imputing row 1/50 with 41 missing, elapsed time: 0.010\n",
      "Imputing row 1/50 with 15 missing, elapsed time: 0.004\n",
      "Imputing row 1/50 with 15 missing, elapsed time: 0.013\n",
      "[KNN] Warning: 28/10850 still missing after imputation, replacing with 0\n",
      "[KNN] Warning: 28/10900 still missing after imputation, replacing with 0\n",
      "Imputing row 1/50 with 25 missing, elapsed time: 0.004\n",
      "Imputing row 1/50 with 25 missing, elapsed time: 0.004\n",
      "Imputing row 1/50 with 41 missing, elapsed time: 0.004\n",
      "Imputing row 1/50 with 41 missing, elapsed time: 0.004\n",
      "[KNN] Warning: 1/10900 still missing after imputation, replacing with 0\n",
      "[KNN] Warning: 1/10850 still missing after imputation, replacing with 0\n",
      "Imputing row 1/50 with 32 missing, elapsed time: 0.004\n",
      "Imputing row 1/50 with 32 missing, elapsed time: 0.005\n",
      "Imputing row 1/50 with 11 missing, elapsed time: 0.004\n",
      "Imputing row 1/50 with 11 missing, elapsed time: 0.004\n",
      "[KNN] Warning: 1/10900 still missing after imputation, replacing with 0\n",
      "[KNN] Warning: 1/10850 still missing after imputation, replacing with 0\n"
     ]
    },
    {
     "name": "stderr",
     "output_type": "stream",
     "text": [
      "/home/linuxbrew/.linuxbrew/opt/python/lib/python3.6/site-packages/tables/path.py:112: NaturalNameWarning: object name is not a valid Python identifier: 'base_featurs_filled_knn_5_wo_target.h5'; it does not match the pattern ``^[a-zA-Z_][a-zA-Z0-9_]*$``; you will not be able to use natural naming to access this object; using ``getattr()`` will still work, though\n",
      "  NaturalNameWarning)\n",
      "/home/linuxbrew/.linuxbrew/opt/python/lib/python3.6/site-packages/tables/path.py:112: NaturalNameWarning: object name is not a valid Python identifier: 'base_featurs_filled_knn_5_w_target.h5'; it does not match the pattern ``^[a-zA-Z_][a-zA-Z0-9_]*$``; you will not be able to use natural naming to access this object; using ``getattr()`` will still work, though\n",
      "  NaturalNameWarning)\n"
     ]
    },
    {
     "name": "stdout",
     "output_type": "stream",
     "text": [
      "Imputing row 1/50 with 8 missing, elapsed time: 0.004\n",
      "Imputing row 1/50 with 8 missing, elapsed time: 0.005\n",
      "Imputing row 1/50 with 103 missing, elapsed time: 0.004\n",
      "Imputing row 1/50 with 102 missing, elapsed time: 0.004\n",
      "Imputing row 1/50 with 11 missing, elapsed time: 0.004\n",
      "Imputing row 1/50 with 11 missing, elapsed time: 0.004\n",
      "Imputing row 1/50 with 34 missing, elapsed time: 0.004\n",
      "Imputing row 1/50 with 34 missing, elapsed time: 0.004\n",
      "Imputing row 1/50 with 34 missing, elapsed time: 0.004\n",
      "Imputing row 1/50 with 34 missing, elapsed time: 0.004\n",
      "Imputing row 1/50 with 42 missing, elapsed time: 0.004\n",
      "Imputing row 1/50 with 42 missing, elapsed time: 0.004\n",
      "Imputing row 1/50 with 38 missing, elapsed time: 0.004\n",
      "Imputing row 1/50 with 38 missing, elapsed time: 0.004\n",
      "Imputing row 1/50 with 17 missing, elapsed time: 0.004\n",
      "Imputing row 1/50 with 17 missing, elapsed time: 0.004\n",
      "Imputing row 1/50 with 47 missing, elapsed time: 0.004\n",
      "Imputing row 1/50 with 47 missing, elapsed time: 0.004\n",
      "Imputing row 1/50 with 55 missing, elapsed time: 0.032\n",
      "Imputing row 1/50 with 55 missing, elapsed time: 0.004\n",
      "Imputing row 1/50 with 37 missing, elapsed time: 0.004\n",
      "Imputing row 1/50 with 37 missing, elapsed time: 0.004\n",
      "Imputing row 1/50 with 9 missing, elapsed time: 0.017\n",
      "Imputing row 1/50 with 9 missing, elapsed time: 0.004\n",
      "Imputing row 1/50 with 41 missing, elapsed time: 0.004\n",
      "Imputing row 1/50 with 41 missing, elapsed time: 0.004\n",
      "Imputing row 1/50 with 40 missing, elapsed time: 0.019\n",
      "Imputing row 1/50 with 40 missing, elapsed time: 0.004\n",
      "Imputing row 1/50 with 40 missing, elapsed time: 0.004\n",
      "Imputing row 1/50 with 40 missing, elapsed time: 0.004\n",
      "[KNN] Warning: 7/10900 still missing after imputation, replacing with 0\n",
      "[KNN] Warning: 7/10850 still missing after imputation, replacing with 0\n",
      "Imputing row 1/50 with 70 missing, elapsed time: 0.004\n",
      "Imputing row 1/50 with 70 missing, elapsed time: 0.004\n",
      "Imputing row 1/50 with 68 missing, elapsed time: 0.004\n",
      "Imputing row 1/50 with 68 missing, elapsed time: 0.004\n",
      "Imputing row 1/50 with 73 missing, elapsed time: 0.004\n",
      "Imputing row 1/50 with 73 missing, elapsed time: 0.004\n",
      "Imputing row 1/50 with 20 missing, elapsed time: 0.004\n",
      "Imputing row 1/50 with 20 missing, elapsed time: 0.004\n",
      "Imputing row 1/50 with 41 missing, elapsed time: 0.004\n",
      "Imputing row 1/50 with 41 missing, elapsed time: 0.021\n",
      "Imputing row 1/50 with 15 missing, elapsed time: 0.004\n",
      "Imputing row 1/50 with 15 missing, elapsed time: 0.004\n",
      "[KNN] Warning: 34/10900 still missing after imputation, replacing with 0\n",
      "Imputing row 1/50 with 25 missing, elapsed time: 0.004\n",
      "[KNN] Warning: 34/10850 still missing after imputation, replacing with 0\n",
      "Imputing row 1/50 with 25 missing, elapsed time: 0.004\n",
      "Imputing row 1/50 with 41 missing, elapsed time: 0.020\n",
      "Imputing row 1/50 with 41 missing, elapsed time: 0.020\n",
      "[KNN] Warning: 1/10900 still missing after imputation, replacing with 0\n",
      "Imputing row 1/50 with 32 missing, elapsed time: 0.004\n",
      "[KNN] Warning: 1/10850 still missing after imputation, replacing with 0\n",
      "Imputing row 1/50 with 32 missing, elapsed time: 0.017\n",
      "Imputing row 1/50 with 11 missing, elapsed time: 0.004\n",
      "Imputing row 1/50 with 11 missing, elapsed time: 0.004\n",
      "[KNN] Warning: 1/10900 still missing after imputation, replacing with 0\n",
      "[KNN] Warning: 1/10850 still missing after imputation, replacing with 0\n"
     ]
    },
    {
     "name": "stderr",
     "output_type": "stream",
     "text": [
      "/home/linuxbrew/.linuxbrew/opt/python/lib/python3.6/site-packages/tables/path.py:112: NaturalNameWarning: object name is not a valid Python identifier: 'base_featurs_filled_knn_10_w_target.h5'; it does not match the pattern ``^[a-zA-Z_][a-zA-Z0-9_]*$``; you will not be able to use natural naming to access this object; using ``getattr()`` will still work, though\n",
      "  NaturalNameWarning)\n",
      "/home/linuxbrew/.linuxbrew/opt/python/lib/python3.6/site-packages/tables/path.py:112: NaturalNameWarning: object name is not a valid Python identifier: 'base_featurs_filled_knn_10_wo_target.h5'; it does not match the pattern ``^[a-zA-Z_][a-zA-Z0-9_]*$``; you will not be able to use natural naming to access this object; using ``getattr()`` will still work, though\n",
      "  NaturalNameWarning)\n"
     ]
    },
    {
     "name": "stdout",
     "output_type": "stream",
     "text": [
      "Imputing row 1/50 with 8 missing, elapsed time: 0.004\n",
      "Imputing row 1/50 with 8 missing, elapsed time: 0.004\n",
      "Imputing row 1/50 with 103 missing, elapsed time: 0.004\n",
      "Imputing row 1/50 with 102 missing, elapsed time: 0.004\n",
      "Imputing row 1/50 with 11 missing, elapsed time: 0.004\n",
      "Imputing row 1/50 with 11 missing, elapsed time: 0.004\n",
      "Imputing row 1/50 with 34 missing, elapsed time: 0.004\n",
      "Imputing row 1/50 with 34 missing, elapsed time: 0.004\n",
      "Imputing row 1/50 with 34 missing, elapsed time: 0.004\n",
      "Imputing row 1/50 with 34 missing, elapsed time: 0.009\n",
      "Imputing row 1/50 with 42 missing, elapsed time: 0.016\n",
      "Imputing row 1/50 with 42 missing, elapsed time: 0.004\n",
      "Imputing row 1/50 with 38 missing, elapsed time: 0.020\n",
      "Imputing row 1/50 with 38 missing, elapsed time: 0.005\n",
      "Imputing row 1/50 with 17 missing, elapsed time: 0.020\n",
      "Imputing row 1/50 with 17 missing, elapsed time: 0.008\n",
      "Imputing row 1/50 with 47 missing, elapsed time: 0.004\n",
      "Imputing row 1/50 with 47 missing, elapsed time: 0.004\n",
      "Imputing row 1/50 with 55 missing, elapsed time: 0.004\n",
      "Imputing row 1/50 with 55 missing, elapsed time: 0.011\n",
      "Imputing row 1/50 with 37 missing, elapsed time: 0.020\n",
      "Imputing row 1/50 with 37 missing, elapsed time: 0.004\n",
      "Imputing row 1/50 with 9 missing, elapsed time: 0.019\n",
      "Imputing row 1/50 with 9 missing, elapsed time: 0.004\n",
      "Imputing row 1/50 with 41 missing, elapsed time: 0.004\n",
      "Imputing row 1/50 with 41 missing, elapsed time: 0.014\n",
      "Imputing row 1/50 with 40 missing, elapsed time: 0.020\n",
      "Imputing row 1/50 with 40 missing, elapsed time: 0.004\n",
      "Imputing row 1/50 with 40 missing, elapsed time: 0.004\n",
      "Imputing row 1/50 with 40 missing, elapsed time: 0.029\n",
      "[KNN] Warning: 7/10900 still missing after imputation, replacing with 0\n",
      "Imputing row 1/50 with 70 missing, elapsed time: 0.004\n",
      "[KNN] Warning: 7/10850 still missing after imputation, replacing with 0\n",
      "Imputing row 1/50 with 70 missing, elapsed time: 0.004\n",
      "Imputing row 1/50 with 68 missing, elapsed time: 0.004\n",
      "Imputing row 1/50 with 68 missing, elapsed time: 0.026\n",
      "Imputing row 1/50 with 73 missing, elapsed time: 0.004\n",
      "Imputing row 1/50 with 73 missing, elapsed time: 0.004\n",
      "Imputing row 1/50 with 20 missing, elapsed time: 0.004\n",
      "Imputing row 1/50 with 20 missing, elapsed time: 0.004\n",
      "Imputing row 1/50 with 41 missing, elapsed time: 0.020\n",
      "Imputing row 1/50 with 41 missing, elapsed time: 0.005\n",
      "Imputing row 1/50 with 15 missing, elapsed time: 0.020\n",
      "Imputing row 1/50 with 15 missing, elapsed time: 0.004\n",
      "[KNN] Warning: 34/10900 still missing after imputation, replacing with 0\n",
      "[KNN] Warning: 34/10850 still missing after imputation, replacing with 0\n",
      "Imputing row 1/50 with 25 missing, elapsed time: 0.004\n",
      "Imputing row 1/50 with 25 missing, elapsed time: 0.004\n",
      "Imputing row 1/50 with 41 missing, elapsed time: 0.004\n",
      "Imputing row 1/50 with 41 missing, elapsed time: 0.012\n",
      "[KNN] Warning: 1/10900 still missing after imputation, replacing with 0\n",
      "[KNN] Warning: 1/10850 still missing after imputation, replacing with 0\n",
      "Imputing row 1/50 with 32 missing, elapsed time: 0.004\n",
      "Imputing row 1/50 with 32 missing, elapsed time: 0.030\n",
      "Imputing row 1/50 with 11 missing, elapsed time: 0.004\n",
      "Imputing row 1/50 with 11 missing, elapsed time: 0.024\n",
      "[KNN] Warning: 1/10900 still missing after imputation, replacing with 0\n"
     ]
    },
    {
     "name": "stderr",
     "output_type": "stream",
     "text": [
      "/home/linuxbrew/.linuxbrew/opt/python/lib/python3.6/site-packages/tables/path.py:112: NaturalNameWarning: object name is not a valid Python identifier: 'base_featurs_filled_knn_15_w_target.h5'; it does not match the pattern ``^[a-zA-Z_][a-zA-Z0-9_]*$``; you will not be able to use natural naming to access this object; using ``getattr()`` will still work, though\n",
      "  NaturalNameWarning)\n"
     ]
    },
    {
     "name": "stdout",
     "output_type": "stream",
     "text": [
      "[KNN] Warning: 1/10850 still missing after imputation, replacing with 0\n"
     ]
    },
    {
     "name": "stderr",
     "output_type": "stream",
     "text": [
      "/home/linuxbrew/.linuxbrew/opt/python/lib/python3.6/site-packages/tables/path.py:112: NaturalNameWarning: object name is not a valid Python identifier: 'base_featurs_filled_knn_15_wo_target.h5'; it does not match the pattern ``^[a-zA-Z_][a-zA-Z0-9_]*$``; you will not be able to use natural naming to access this object; using ``getattr()`` will still work, though\n",
      "  NaturalNameWarning)\n"
     ]
    },
    {
     "name": "stdout",
     "output_type": "stream",
     "text": [
      "Imputing row 1/50 with 8 missing, elapsed time: 0.004\n",
      "Imputing row 1/50 with 8 missing, elapsed time: 0.004\n",
      "Imputing row 1/50 with 103 missing, elapsed time: 0.004\n",
      "Imputing row 1/50 with 102 missing, elapsed time: 0.029\n",
      "Imputing row 1/50 with 11 missing, elapsed time: 0.024\n",
      "Imputing row 1/50 with 11 missing, elapsed time: 0.004\n",
      "Imputing row 1/50 with 34 missing, elapsed time: 0.004\n",
      "Imputing row 1/50 with 34 missing, elapsed time: 0.004\n",
      "Imputing row 1/50 with 34 missing, elapsed time: 0.004\n",
      "Imputing row 1/50 with 34 missing, elapsed time: 0.004\n",
      "Imputing row 1/50 with 42 missing, elapsed time: 0.004\n",
      "Imputing row 1/50 with 42 missing, elapsed time: 0.004\n",
      "Imputing row 1/50 with 38 missing, elapsed time: 0.020\n",
      "Imputing row 1/50 with 38 missing, elapsed time: 0.004\n",
      "Imputing row 1/50 with 17 missing, elapsed time: 0.020\n",
      "Imputing row 1/50 with 17 missing, elapsed time: 0.004\n",
      "Imputing row 1/50 with 47 missing, elapsed time: 0.004\n",
      "Imputing row 1/50 with 47 missing, elapsed time: 0.004\n",
      "Imputing row 1/50 with 55 missing, elapsed time: 0.004\n",
      "Imputing row 1/50 with 55 missing, elapsed time: 0.004\n",
      "Imputing row 1/50 with 37 missing, elapsed time: 0.004\n",
      "Imputing row 1/50 with 37 missing, elapsed time: 0.004\n",
      "Imputing row 1/50 with 9 missing, elapsed time: 0.004\n",
      "Imputing row 1/50 with 9 missing, elapsed time: 0.004\n",
      "Imputing row 1/50 with 41 missing, elapsed time: 0.004\n",
      "Imputing row 1/50 with 41 missing, elapsed time: 0.004\n",
      "Imputing row 1/50 with 40 missing, elapsed time: 0.004\n",
      "Imputing row 1/50 with 40 missing, elapsed time: 0.020\n",
      "Imputing row 1/50 with 40 missing, elapsed time: 0.008\n",
      "[KNN] Warning: 7/10900 still missing after imputation, replacing with 0\n",
      "Imputing row 1/50 with 40 missing, elapsed time: 0.013\n",
      "Imputing row 1/50 with 70 missing, elapsed time: 0.017\n",
      "[KNN] Warning: 7/10850 still missing after imputation, replacing with 0\n",
      "Imputing row 1/50 with 70 missing, elapsed time: 0.004\n",
      "Imputing row 1/50 with 68 missing, elapsed time: 0.005\n",
      "Imputing row 1/50 with 68 missing, elapsed time: 0.004\n",
      "Imputing row 1/50 with 73 missing, elapsed time: 0.004\n",
      "Imputing row 1/50 with 73 missing, elapsed time: 0.020\n",
      "Imputing row 1/50 with 20 missing, elapsed time: 0.005\n",
      "Imputing row 1/50 with 20 missing, elapsed time: 0.004\n",
      "Imputing row 1/50 with 41 missing, elapsed time: 0.004\n",
      "Imputing row 1/50 with 41 missing, elapsed time: 0.004\n",
      "Imputing row 1/50 with 15 missing, elapsed time: 0.004\n",
      "[KNN] Warning: 34/10900 still missing after imputation, replacing with 0\n",
      "Imputing row 1/50 with 15 missing, elapsed time: 0.004\n",
      "Imputing row 1/50 with 25 missing, elapsed time: 0.004\n",
      "[KNN] Warning: 34/10850 still missing after imputation, replacing with 0\n",
      "Imputing row 1/50 with 25 missing, elapsed time: 0.004\n",
      "Imputing row 1/50 with 41 missing, elapsed time: 0.004\n",
      "[KNN] Warning: 1/10900 still missing after imputation, replacing with 0\n",
      "Imputing row 1/50 with 41 missing, elapsed time: 0.004\n",
      "Imputing row 1/50 with 32 missing, elapsed time: 0.004\n",
      "[KNN] Warning: 1/10850 still missing after imputation, replacing with 0\n",
      "Imputing row 1/50 with 32 missing, elapsed time: 0.018\n",
      "Imputing row 1/50 with 11 missing, elapsed time: 0.004\n",
      "[KNN] Warning: 1/10900 still missing after imputation, replacing with 0\n",
      "Imputing row 1/50 with 11 missing, elapsed time: 0.013\n"
     ]
    },
    {
     "name": "stderr",
     "output_type": "stream",
     "text": [
      "/home/linuxbrew/.linuxbrew/opt/python/lib/python3.6/site-packages/tables/path.py:112: NaturalNameWarning: object name is not a valid Python identifier: 'base_featurs_filled_knn_20_w_target.h5'; it does not match the pattern ``^[a-zA-Z_][a-zA-Z0-9_]*$``; you will not be able to use natural naming to access this object; using ``getattr()`` will still work, though\n",
      "  NaturalNameWarning)\n"
     ]
    },
    {
     "name": "stdout",
     "output_type": "stream",
     "text": [
      "[KNN] Warning: 1/10850 still missing after imputation, replacing with 0\n"
     ]
    },
    {
     "name": "stderr",
     "output_type": "stream",
     "text": [
      "/home/linuxbrew/.linuxbrew/opt/python/lib/python3.6/site-packages/tables/path.py:112: NaturalNameWarning: object name is not a valid Python identifier: 'base_featurs_filled_knn_20_wo_target.h5'; it does not match the pattern ``^[a-zA-Z_][a-zA-Z0-9_]*$``; you will not be able to use natural naming to access this object; using ``getattr()`` will still work, though\n",
      "  NaturalNameWarning)\n"
     ]
    },
    {
     "name": "stdout",
     "output_type": "stream",
     "text": [
      "7.517363786697388  secs\n"
     ]
    }
   ],
   "source": [
    "##################################################\n",
    "# Main\n",
    "##################################################\n",
    "import multiprocessing as mp # for speeding up some process\n",
    "\n",
    "s = time.time()\n",
    "\n",
    "# 1 cpu: 6.550478219985962 secs \n",
    "# 2 cput: 3.199 sec\n",
    "# 32 cput: 3.98811  secs\n",
    "# 這告訴我們, 下面這種進pool, 不是越多越好, 你list長度只有兩個, 就開2個。\n",
    "\n",
    "mp_pool = mp.Pool(2)\n",
    "mp_pool.map(multi, [k for k in np.arange(5, 25, step = 5)]) \n",
    "\n",
    "e = time.time()\n",
    "print (e-s, ' secs')"
   ]
  },
  {
   "cell_type": "code",
   "execution_count": null,
   "metadata": {},
   "outputs": [],
   "source": []
  },
  {
   "cell_type": "code",
   "execution_count": null,
   "metadata": {},
   "outputs": [],
   "source": []
  }
 ],
 "metadata": {
  "kernelspec": {
   "display_name": "Python 3",
   "language": "python",
   "name": "python3"
  },
  "language_info": {
   "codemirror_mode": {
    "name": "ipython",
    "version": 3
   },
   "file_extension": ".py",
   "mimetype": "text/x-python",
   "name": "python",
   "nbconvert_exporter": "python",
   "pygments_lexer": "ipython3",
   "version": "3.6.5"
  }
 },
 "nbformat": 4,
 "nbformat_minor": 2
}
