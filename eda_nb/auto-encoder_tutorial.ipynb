{
 "cells": [
  {
   "cell_type": "code",
   "execution_count": 20,
   "metadata": {},
   "outputs": [],
   "source": [
    "import tensorflow as tf\n",
    "import numpy as np\n",
    "import matplotlib.pyplot as plt\n"
   ]
  },
  {
   "cell_type": "markdown",
   "metadata": {},
   "source": [
    "# auto-encoder\n",
    "### Reference: https://github.com/aymericdamien/TensorFlow-Examples/blob/master/notebooks/3_NeuralNetworks/autoencoder.ipynb"
   ]
  },
  {
   "cell_type": "code",
   "execution_count": 21,
   "metadata": {},
   "outputs": [
    {
     "name": "stdout",
     "output_type": "stream",
     "text": [
      "Extracting /tmp/data/train-images-idx3-ubyte.gz\n",
      "Extracting /tmp/data/train-labels-idx1-ubyte.gz\n",
      "Extracting /tmp/data/t10k-images-idx3-ubyte.gz\n",
      "Extracting /tmp/data/t10k-labels-idx1-ubyte.gz\n"
     ]
    }
   ],
   "source": [
    "# Import MNIST data\n",
    "from tensorflow.examples.tutorials.mnist import input_data\n",
    "mnist = input_data.read_data_sets(\"/tmp/data/\", one_hot=True)"
   ]
  },
  {
   "cell_type": "code",
   "execution_count": 22,
   "metadata": {},
   "outputs": [
    {
     "data": {
      "text/plain": [
       "Datasets(train=<tensorflow.contrib.learn.python.learn.datasets.mnist.DataSet object at 0x7f9d9c3c49b0>, validation=<tensorflow.contrib.learn.python.learn.datasets.mnist.DataSet object at 0x7f9d9c3c4908>, test=<tensorflow.contrib.learn.python.learn.datasets.mnist.DataSet object at 0x7f9d9c3c4a20>)"
      ]
     },
     "execution_count": 22,
     "metadata": {},
     "output_type": "execute_result"
    }
   ],
   "source": [
    "mnist"
   ]
  },
  {
   "cell_type": "code",
   "execution_count": 23,
   "metadata": {},
   "outputs": [],
   "source": [
    "# Training Parameters\n",
    "learning_rate = 0.01\n",
    "num_steps = 30000\n",
    "batch_size = 256\n",
    "\n",
    "\n",
    "# Network Parameters\n",
    "num_hidden_1 = 256 # 1st layer num features\n",
    "num_hidden_2 = 128 # 2nd layer num features (the latent dim)\n",
    "num_input = 784 # MNIST data input (img shape: 28*28)\n",
    "\n",
    "# tf Graph input (only pictures)\n",
    "X = tf.placeholder(\"float\", [None, num_input]) #(batch_size, num_input_dimesion)\n",
    "\n",
    "weights = {\n",
    "    'encoder_h1': tf.Variable(tf.random_normal([num_input, num_hidden_1])), # w1:(784, 256)\n",
    "    'encoder_h2': tf.Variable(tf.random_normal([num_hidden_1, num_hidden_2])), # w2:(256, 128)\n",
    "    'decoder_h1': tf.Variable(tf.random_normal([num_hidden_2, num_hidden_1])), # w3:(128, 256)\n",
    "    'decoder_h2': tf.Variable(tf.random_normal([num_hidden_1, num_input])), # w4:(256, 784)\n",
    "}\n",
    "biases = {\n",
    "    'encoder_b1': tf.Variable(tf.random_normal([num_hidden_1])), # b1:(256,)\n",
    "    'encoder_b2': tf.Variable(tf.random_normal([num_hidden_2])), # b2:(128,)\n",
    "    'decoder_b1': tf.Variable(tf.random_normal([num_hidden_1])), # b3:(256,)\n",
    "    'decoder_b2': tf.Variable(tf.random_normal([num_input])), # # b4:(784,)\n",
    "}"
   ]
  },
  {
   "cell_type": "code",
   "execution_count": 24,
   "metadata": {},
   "outputs": [],
   "source": [
    "# Building the encoder\n",
    "def encoder(x):\n",
    "    '''\n",
    "    attivation func: sigmoid\n",
    "    input: input data iteself\n",
    "    output: latent vector\n",
    "    '''\n",
    "    # Encoder Hidden layer with sigmoid activation #1\n",
    "    layer_1 = tf.nn.sigmoid(tf.add(tf.matmul(x, weights['encoder_h1']),\n",
    "                                   biases['encoder_b1']))\n",
    "    # Encoder Hidden layer with sigmoid activation #2\n",
    "    layer_2 = tf.nn.sigmoid(tf.add(tf.matmul(layer_1, weights['encoder_h2']),\n",
    "                                   biases['encoder_b2']))\n",
    "    return layer_2\n",
    "\n",
    "\n",
    "# Building the decoder\n",
    "def decoder(x):\n",
    "    # Decoder Hidden layer with sigmoid activation #1\n",
    "    layer_1 = tf.nn.sigmoid(tf.add(tf.matmul(x, weights['decoder_h1']),\n",
    "                                   biases['decoder_b1']))\n",
    "    # Decoder Hidden layer with sigmoid activation #2\n",
    "    layer_2 = tf.nn.sigmoid(tf.add(tf.matmul(layer_1, weights['decoder_h2']),\n",
    "                                   biases['decoder_b2']))\n",
    "    return layer_2\n",
    "\n",
    "# Construct model\n",
    "encoder_op = encoder(X)\n",
    "decoder_op = decoder(encoder_op)\n",
    "\n",
    "# Prediction\n",
    "y_pred = decoder_op \n",
    "# Targets (Labels) are the input data itself.\n",
    "y_true = X \n",
    "\n",
    "# Define loss and optimizer, minimize the squared error\n",
    "loss = tf.reduce_mean(tf.pow(y_true - y_pred, 2)) # tf.pow(y_true - y_pred, 2): return\n",
    "optimizer = tf.train.RMSPropOptimizer(learning_rate).minimize(loss)\n",
    "\n",
    "# Initialize the variables (i.e. assign their default value)\n",
    "init = tf.global_variables_initializer()"
   ]
  },
  {
   "cell_type": "code",
   "execution_count": 40,
   "metadata": {},
   "outputs": [
    {
     "name": "stdout",
     "output_type": "stream",
     "text": [
      "Step 1: Minibatch Loss: 0.464701\n",
      "Step 1000: Minibatch Loss: 0.134976\n",
      "Step 2000: Minibatch Loss: 0.113905\n",
      "Step 3000: Minibatch Loss: 0.100333\n",
      "Step 4000: Minibatch Loss: 0.093595\n",
      "Step 5000: Minibatch Loss: 0.090714\n",
      "Step 6000: Minibatch Loss: 0.084633\n",
      "Step 7000: Minibatch Loss: 0.082125\n",
      "Step 8000: Minibatch Loss: 0.080300\n",
      "Step 9000: Minibatch Loss: 0.078539\n",
      "Step 10000: Minibatch Loss: 0.070800\n",
      "Step 11000: Minibatch Loss: 0.068289\n",
      "Step 12000: Minibatch Loss: 0.067055\n",
      "Step 13000: Minibatch Loss: 0.064514\n",
      "Step 14000: Minibatch Loss: 0.062348\n",
      "Step 15000: Minibatch Loss: 0.061883\n",
      "Step 16000: Minibatch Loss: 0.060037\n",
      "Step 17000: Minibatch Loss: 0.060218\n",
      "Step 18000: Minibatch Loss: 0.059434\n",
      "Step 19000: Minibatch Loss: 0.061453\n",
      "Step 20000: Minibatch Loss: 0.055298\n",
      "Step 21000: Minibatch Loss: 0.053127\n",
      "Step 22000: Minibatch Loss: 0.052139\n",
      "Step 23000: Minibatch Loss: 0.049979\n",
      "Step 24000: Minibatch Loss: 0.051794\n",
      "Step 25000: Minibatch Loss: 0.050583\n",
      "Step 26000: Minibatch Loss: 0.048739\n",
      "Step 27000: Minibatch Loss: 0.048076\n",
      "Step 28000: Minibatch Loss: 0.047304\n",
      "Step 29000: Minibatch Loss: 0.045735\n",
      "Step 30000: Minibatch Loss: 0.044794\n"
     ]
    }
   ],
   "source": [
    "# Start Training\n",
    "display_step = 1000\n",
    "\n",
    "# Start a new TF session\n",
    "sess = tf.Session()\n",
    "\n",
    "# Run the initializer\n",
    "sess.run(init)\n",
    "\n",
    "# Training\n",
    "for i in range(1, num_steps+1):\n",
    "    # Prepare Data\n",
    "    # Get the next batch of MNIST data (only images are needed, not labels)\n",
    "    batch_x, _ = mnist.train.next_batch(batch_size)\n",
    "    #print ('batch_x', batch_x.shape)\n",
    "    # Run optimization op (backprop) and cost op (to get loss value)\n",
    "    _, l = sess.run([optimizer, loss], feed_dict={X: batch_x})\n",
    "    # Display logs per step\n",
    "    if i % display_step == 0 or i == 1:\n",
    "        print('Step %i: Minibatch Loss: %f' % (i, l))\n"
   ]
  },
  {
   "cell_type": "code",
   "execution_count": 45,
   "metadata": {},
   "outputs": [
    {
     "name": "stdout",
     "output_type": "stream",
     "text": [
      "canvas_orig (112, 112)\n",
      "batch_x (4, 784)\n",
      "g (4, 784)\n",
      "batch_x (4, 784)\n",
      "g (4, 784)\n",
      "batch_x (4, 784)\n",
      "g (4, 784)\n",
      "batch_x (4, 784)\n",
      "g (4, 784)\n",
      "Original Images\n"
     ]
    },
    {
     "data": {
      "image/png": "[encoded data removed]",
      "text/plain": [
       "<Figure size 288x288 with 1 Axes>"
      ]
     },
     "metadata": {},
     "output_type": "display_data"
    },
    {
     "name": "stdout",
     "output_type": "stream",
     "text": [
      "Reconstructed Images\n"
     ]
    },
    {
     "data": {
      "image/png": "[encoded data removed]",
      "text/plain": [
       "<Figure size 288x288 with 1 Axes>"
      ]
     },
     "metadata": {},
     "output_type": "display_data"
    }
   ],
   "source": [
    "# Testing\n",
    "# Encode and decode images from test set and visualize their reconstruction.\n",
    "n = 4\n",
    "# initialize variables\n",
    "canvas_orig = np.empty((28 * n, 28 * n))\n",
    "print ('canvas_orig', canvas_orig.shape)\n",
    "canvas_recon = np.empty((28 * n, 28 * n))\n",
    "for i in range(n):\n",
    "    # MNIST test set\n",
    "    batch_x, _ = mnist.test.next_batch(n) # (4, 784)\n",
    "    print ('batch_x', batch_x.shape) \n",
    "    # Encode and decode the digit image\n",
    "    g = sess.run(decoder_op, feed_dict={X: batch_x}) # (4, 784)\n",
    "    print ('g', g.shape)\n",
    "    # Display original images\n",
    "    for j in range(n):\n",
    "        # Draw the generated digits\n",
    "        canvas_orig[i * 28:(i + 1) * 28, j * 28:(j + 1) * 28] = batch_x[j].reshape([28, 28])\n",
    "    # Display reconstructed images\n",
    "    for j in range(n):\n",
    "        # Draw the generated digits\n",
    "        canvas_recon[i * 28:(i + 1) * 28, j * 28:(j + 1) * 28] = g[j].reshape([28, 28])\n",
    "\n",
    "print(\"Original Images\")     \n",
    "plt.figure(figsize=(n, n))\n",
    "plt.imshow(canvas_orig, origin=\"upper\", cmap=\"gray\")\n",
    "plt.show()\n",
    "\n",
    "print(\"Reconstructed Images\")\n",
    "plt.figure(figsize=(n, n))\n",
    "plt.imshow(canvas_recon, origin=\"upper\", cmap=\"gray\")\n",
    "plt.show()\n"
   ]
  },
  {
   "cell_type": "markdown",
   "metadata": {},
   "source": [
    "# tf.pow(x,y) : Computes the power of one value to another."
   ]
  },
  {
   "cell_type": "code",
   "execution_count": 38,
   "metadata": {},
   "outputs": [
    {
     "name": "stdout",
     "output_type": "stream",
     "text": [
      "c [1. 4. 9.]\n",
      "d 4.666666666666667\n"
     ]
    }
   ],
   "source": [
    "x = np.array([1.0,2.0,3.0])\n",
    "y = 2\n",
    "c = tf.pow(x, y)  # [[256, 65536], [9, 27]]\n",
    "d = tf.reduce_mean(c, axis = None)  \n",
    "# Using the context manager.\n",
    "with tf.Session() as sess:\n",
    "    c = sess.run(c) \n",
    "    d = sess.run(d)\n",
    "    print ('c',c)\n",
    "    print ('d', d)"
   ]
  },
  {
   "cell_type": "markdown",
   "metadata": {},
   "source": [
    "# tf.reduce_mean(input_tensor) :Computes the mean of elements across dimensions of a tensor"
   ]
  },
  {
   "cell_type": "code",
   "execution_count": 32,
   "metadata": {},
   "outputs": [
    {
     "name": "stdout",
     "output_type": "stream",
     "text": [
      "x [[1. 2.]\n",
      " [3. 4.]] (2, 2)\n",
      "x1 2.5\n"
     ]
    }
   ],
   "source": [
    "x = tf.constant([[1., 2.], [3., 4.]])\n",
    "x1 = tf.reduce_mean(x)  # 1.5\n",
    "tf.reduce_mean(x, 0)  # [1.5, 1.5]\n",
    "tf.reduce_mean(x, 1)  # [1.,  2.]\n",
    "# Using the context manager.\n",
    "with tf.Session() as sess:\n",
    "    x = sess.run(x) \n",
    "    x1 = sess.run(x1)\n",
    "    print ('x', x, x.shape)\n",
    "    print ('x1', x1)"
   ]
  },
  {
   "cell_type": "code",
   "execution_count": null,
   "metadata": {},
   "outputs": [],
   "source": []
  }
 ],
 "metadata": {
  "kernelspec": {
   "display_name": "Python 3",
   "language": "python",
   "name": "python3"
  },
  "language_info": {
   "codemirror_mode": {
    "name": "ipython",
    "version": 3
   },
   "file_extension": ".py",
   "mimetype": "text/x-python",
   "name": "python",
   "nbconvert_exporter": "python",
   "pygments_lexer": "ipython3",
   "version": "3.6.5"
  }
 },
 "nbformat": 4,
 "nbformat_minor": 2
}
