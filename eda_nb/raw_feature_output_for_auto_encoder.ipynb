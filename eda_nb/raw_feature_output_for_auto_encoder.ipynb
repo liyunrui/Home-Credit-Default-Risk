{
 "cells": [
  {
   "cell_type": "code",
   "execution_count": null,
   "metadata": {},
   "outputs": [],
   "source": [
    "import numpy as np\n",
    "import pandas as pd\n",
    "import gc\n",
    "import time\n",
    "from contextlib import contextmanager\n",
    "from lightgbm import LGBMClassifier\n",
    "from sklearn.metrics import roc_auc_score, roc_curve\n",
    "from sklearn.model_selection import KFold, StratifiedKFold\n",
    "import matplotlib.pyplot as plt\n",
    "import seaborn as sns\n",
    "import warnings\n",
    "import multiprocessing as mp\n",
    "from os.path import exists\n",
    "from functools import partial\n",
    "from tqdm import tqdm\n",
    "warnings.simplefilter(action='ignore', category=FutureWarning)"
   ]
  },
  {
   "cell_type": "code",
   "execution_count": null,
   "metadata": {},
   "outputs": [],
   "source": [
    "def read_df(name):\n",
    "    if exists('../input/%s.h5' %name):\n",
    "        df = pd.read_hdf('../input/%s.h5' %name, str(name))\n",
    "    else:\n",
    "        df = pd.read_csv('../input/%s.csv' %name)\n",
    "        df.to_hdf('../input/%s.h5' %name, str(name))\n",
    "    return df\n",
    "\n",
    "def rename_columns(df, name):\n",
    "    for col in df.columns:\n",
    "        if col != 'SK_ID_CURR':\n",
    "            df.rename(index=str, columns={col: name+'__'+col}, inplace=True)\n",
    "    return df"
   ]
  },
  {
   "cell_type": "code",
   "execution_count": null,
   "metadata": {},
   "outputs": [],
   "source": [
    "# Preprocess application_train.csv and application_test.csv\n",
    "def application_train_test(nan_as_category = False):\n",
    "    # Read data and merge\n",
    "    df = read_df('application_train')\n",
    "    test_df = read_df('application_test')\n",
    "    if DEBUG:\n",
    "        df = df[:HEAD]\n",
    "        test_df = test_df[:HEAD]\n",
    "    print(\"Train samples: {}, test samples: {}\".format(len(df), len(test_df)))\n",
    "    df = df.append(test_df).reset_index()\n",
    "    \n",
    "    df['CODE_GENDER'].replace('XNA',np.nan, inplace=True) # df = df[df['CODE_GENDER'] != 'XNA']\n",
    "    df['DAYS_LAST_PHONE_CHANGE'].replace(0, np.nan, inplace=True)\n",
    "    df['DAYS_EMPLOYED'].replace(365243, np.nan, inplace= True)\n",
    "    df['NAME_FAMILY_STATUS'].replace('Unknown', np.nan, inplace=True)\n",
    "    df['ORGANIZATION_TYPE'].replace('XNA', np.nan, inplace=True)\n",
    "    return df\n",
    "# Preprocess bureau.csv and bureau_balance.csv\n",
    "def bureau_and_balance(nan_as_category = True):\n",
    "    bureau = read_df('bureau')\n",
    "\n",
    "    bb = read_df('bureau_balance')\n",
    "    if DEBUG:\n",
    "        bureau = bureau[:HEAD]\n",
    "        bb = bb[:HEAD]\n",
    "    # preprocessing\n",
    "    bureau['DAYS_CREDIT_ENDDATE'][bureau['DAYS_CREDIT_ENDDATE'] < -40000] = np.nan\n",
    "    bureau['DAYS_CREDIT_UPDATE'][bureau['DAYS_CREDIT_UPDATE'] < -40000] = np.nan\n",
    "    bureau['DAYS_ENDDATE_FACT'][bureau['DAYS_ENDDATE_FACT'] < -40000] = np.nan\n",
    "\n",
    "    # Bureau balance: Perform aggregations\n",
    "    bb_aggregations = {'MONTHS_BALANCE': ['min', 'max', 'size']}\n",
    "    \n",
    "    bb_agg = bb.groupby('SK_ID_BUREAU').agg(bb_aggregations)\n",
    "    bb_agg.columns = pd.Index([e[0] + \"_\" + e[1].upper() for e in bb_agg.columns.tolist()])\n",
    "\n",
    "    # merge bureau_balance.csv with bureau.csv\n",
    "    bureau = bureau.join(bb_agg, how='left', on='SK_ID_BUREAU')\n",
    "    bureau.drop(['SK_ID_BUREAU'], axis=1, inplace= True)\n",
    "\n",
    "    del bb, bb_agg\n",
    "    gc.collect()\n",
    "    return bureau_agg\n",
    "    \n",
    "# Preprocess previous_applications.csv\n",
    "def previous_applications(nan_as_category = True):\n",
    "    prev_app = read_df('previous_application')\n",
    "    if DEBUG:\n",
    "        prev_app = prev_app[:HEAD]\n",
    "\n",
    "    #------------------\n",
    "    # preprocessing\n",
    "    #------------------\n",
    "    prev_app['DAYS_FIRST_DRAWING'].replace(365243, np.nan, inplace= True)\n",
    "    prev_app['DAYS_FIRST_DUE'].replace(365243, np.nan, inplace= True)\n",
    "    prev_app['DAYS_LAST_DUE_1ST_VERSION'].replace(365243, np.nan, inplace= True)\n",
    "    prev_app['DAYS_LAST_DUE'].replace(365243, np.nan, inplace= True)\n",
    "    prev_app['DAYS_TERMINATION'].replace(365243, np.nan, inplace= True)\n",
    "    return prev_app\n",
    "\n",
    "# Preprocess POS_CASH_balance.csv\n",
    "def pos_cash(nan_as_category = True):\n",
    "    pos_cash = read_df('POS_CASH_balance')\n",
    "    if DEBUG:\n",
    "        pos_cash = pos_cash[:HEAD]\n",
    "        \n",
    "    #------------------\n",
    "    # preprocessing\n",
    "    #------------------\n",
    "    pos_cash['is_contract_status_completed'] = pos_cash['NAME_CONTRACT_STATUS'] == 'Completed'\n",
    "    pos_cash['pos_cash_paid_late'] = (pos_cash['SK_DPD'] > 0).astype(int)\n",
    "    pos_cash['pos_cash_paid_late_with_tolerance'] = (pos_cash['SK_DPD_DEF'] > 0).astype(int)\n",
    "    return pos_cash\n",
    "    "
   ]
  },
  {
   "cell_type": "code",
   "execution_count": null,
   "metadata": {},
   "outputs": [],
   "source": [
    "def rename_columns(df, name):\n",
    "    for col in df.columns:\n",
    "        if col != 'SK_ID_CURR':\n",
    "            df.rename(index=str, columns={col: name+'__'+col}, inplace=True)\n",
    "    return df\n",
    "\n",
    "@contextmanager\n",
    "def timer(title):\n",
    "    t0 = time.time()\n",
    "    yield\n",
    "    print(\"{} - done in {:.0f}s\".format(title, time.time() - t0))\n",
    "    \n",
    "DEBUG = False\n",
    "HEAD = 1000\n",
    "df = pd.DataFrame()\n",
    "\n",
    "with timer(\"Process train/test application\"):\n",
    "    df = application_train_test()\n",
    "    print(\"Train/Test application df shape:\", df.shape)\n",
    "    \n",
    "with timer(\"Process bureau and bureau_balance\"):\n",
    "    bureau = bureau_and_balance()\n",
    "    bureau = rename_columns(bureau, 'bureau')\n",
    "    df = df.merge(bureau, how='left', on=['SK_ID_CURR'])\n",
    "    print(\"Train/Test application df shape:\", df.shape)\n",
    "    #del bureau\n",
    "    gc.collect()\n",
    "    \n",
    "with timer(\"Process previous_applications\"):\n",
    "    prev = previous_applications()\n",
    "    prev = rename_columns(prev, 'previous_applications')\n",
    "    df = df.merge(prev, how='left', on=['SK_ID_CURR'])\n",
    "    print(\"Train/Test application df shape:\", df.shape)\n",
    "    #del prev\n",
    "    gc.collect()\n",
    "    \n",
    "with timer(\"Process POS-CASH balance\"):\n",
    "    pos = pos_cash()\n",
    "    pos = rename_columns(pos, 'POS_CASH')\n",
    "    print(\"Pos-cash balance df shape:\", pos.shape)\n",
    "    df = df.merge(pos, how='left', on=['SK_ID_CURR'])\n",
    "    print(\"Train/Test application df shape:\", df.shape)\n",
    "    #del pos\n",
    "    gc.collect()"
   ]
  },
  {
   "cell_type": "code",
   "execution_count": null,
   "metadata": {},
   "outputs": [],
   "source": [
    "feat = [f for f in list(bureau.columns) if 'MONTHS_BALANCE' in f]\n",
    "feat"
   ]
  },
  {
   "cell_type": "code",
   "execution_count": null,
   "metadata": {},
   "outputs": [],
   "source": [
    "df['bureau__MONTHS_BALANCE_MAX'].value_counts()"
   ]
  },
  {
   "cell_type": "code",
   "execution_count": null,
   "metadata": {},
   "outputs": [],
   "source": [
    "df[df.POS_CASH__MONTHS_BALANCE == -34.0]"
   ]
  },
  {
   "cell_type": "code",
   "execution_count": null,
   "metadata": {},
   "outputs": [],
   "source": [
    "bb"
   ]
  },
  {
   "cell_type": "code",
   "execution_count": null,
   "metadata": {},
   "outputs": [],
   "source": [
    "pd.merge(bureau, bb, how = 'left', on = 'SK_ID_BUREAU')"
   ]
  },
  {
   "cell_type": "code",
   "execution_count": null,
   "metadata": {},
   "outputs": [],
   "source": []
  }
 ],
 "metadata": {
  "kernelspec": {
   "display_name": "Python 3",
   "language": "python",
   "name": "python3"
  },
  "language_info": {
   "codemirror_mode": {
    "name": "ipython",
    "version": 3
   },
   "file_extension": ".py",
   "mimetype": "text/x-python",
   "name": "python",
   "nbconvert_exporter": "python",
   "pygments_lexer": "ipython3",
   "version": "3.6.5"
  }
 },
 "nbformat": 4,
 "nbformat_minor": 2
}
